{
 "cells": [
  {
   "cell_type": "raw",
   "metadata": {},
   "source": [
    "Real-time Election Results: Portugal 2019 Data Set\n",
    "\n",
    "https://archive.ics.uci.edu/ml/datasets/Real-time+Election+Results%3A+Portugal+2019\n",
    "\n",
    "Data Set Information:\n",
    "\n",
    "A data set describing the evolution of results in the Portuguese Parliamentary Elections of October 6th 2019.\n",
    "The data spans a time interval of 4 hours and 25 minutes, in intervals of 5 minutes, concerning the results of \n",
    "the 27 parties involved in the electoral event.\n",
    "The data set is tailored for predictive modelling tasks, mostly focused on numerical forecasting tasks.\n",
    "Regardless, it allows for other tasks such as ordinal regression or learn-to-rankProvide a short description of\n",
    "your data set (less than 200 characters).\n",
    "\n",
    "Additional (and updated) information may be found in [Web Link] :\n",
    "- Raw data sets\n",
    "- R code to build the final data set\n",
    "- Basic operations to build predictive modelling tasks using this data set\n",
    "\n",
    "Attribute Information:\n",
    "\n",
    "TimeElapsed (Numeric): Time (minutes) passed since the first data acquisition\n",
    "time (timestamp): Date and time of the data acquisition\n",
    "territoryName (string): Short name of the location (district or nation-wide)\n",
    "totalMandates (numeric): MP's elected at the moment\n",
    "availableMandates (numeric): MP's left to elect at the moment\n",
    "numParishes (numeric): Total number of parishes in this location\n",
    "numParishesApproved (numeric): Number of parishes approved in this location\n",
    "blankVotes (numeric): Number of blank votes\n",
    "blankVotesPercentage (numeric): Percentage of blank votes\n",
    "nullVotes (numeric): Number of null votes\n",
    "nullVotesPercentage (numeric): Percentage of null votes\n",
    "votersPercentage (numeric): Percentage of voters\n",
    "subscribedVoters (numeric): Number of subscribed voters in the location\n",
    "totalVoters (numeric): Percentage of blank votes\n",
    "pre.blankVotes (numeric): Number of blank votes (previous election)\n",
    "pre.blankVotesPercentage (numeric): Percentage of blank votes (previous election)\n",
    "pre.nullVotes (numeric): Number of null votes (previous election)\n",
    "pre.nullVotesPercentage (numeric): Percentage of null votes (previous election)\n",
    "pre.votersPercentage (numeric): Percentage of voters (previous election)\n",
    "pre.subscribedVoters (numeric): Number of subscribed voters in the location (previous election)\n",
    "pre.totalVoters (numeric): Percentage of blank votes (previous election)\n",
    "Party (string): Political Party\n",
    "Mandates (numeric): MP's elected at the moment for the party in a given district\n",
    "Percentage (numeric): Percentage of votes in a party\n",
    "validVotesPercentage (numeric): Percentage of valid votes in a party\n",
    "Votes (numeric): Percentage of party votes\n",
    "Hondt (numeric): Number of MP's according to the distribution of votes now\n",
    "FinalMandates (numeric): Target: final number of elected MP's in a district/national-level\n"
   ]
  },
  {
   "cell_type": "code",
   "execution_count": 26,
   "metadata": {},
   "outputs": [],
   "source": [
    "import numpy as np\n",
    "import pandas as pd\n",
    "import seaborn as sns\n",
    "import matplotlib.pyplot as plt\n",
    "import warnings\n",
    "warnings.filterwarnings('always')\n",
    "warnings.filterwarnings('ignore')"
   ]
  },
  {
   "cell_type": "code",
   "execution_count": 27,
   "metadata": {},
   "outputs": [
    {
     "data": {
      "text/html": [
       "<div>\n",
       "<style scoped>\n",
       "    .dataframe tbody tr th:only-of-type {\n",
       "        vertical-align: middle;\n",
       "    }\n",
       "\n",
       "    .dataframe tbody tr th {\n",
       "        vertical-align: top;\n",
       "    }\n",
       "\n",
       "    .dataframe thead th {\n",
       "        text-align: right;\n",
       "    }\n",
       "</style>\n",
       "<table border=\"1\" class=\"dataframe\">\n",
       "  <thead>\n",
       "    <tr style=\"text-align: right;\">\n",
       "      <th></th>\n",
       "      <th>TimeElapsed</th>\n",
       "      <th>time</th>\n",
       "      <th>territoryName</th>\n",
       "      <th>totalMandates</th>\n",
       "      <th>availableMandates</th>\n",
       "      <th>numParishes</th>\n",
       "      <th>numParishesApproved</th>\n",
       "      <th>blankVotes</th>\n",
       "      <th>blankVotesPercentage</th>\n",
       "      <th>nullVotes</th>\n",
       "      <th>...</th>\n",
       "      <th>pre.votersPercentage</th>\n",
       "      <th>pre.subscribedVoters</th>\n",
       "      <th>pre.totalVoters</th>\n",
       "      <th>Party</th>\n",
       "      <th>Mandates</th>\n",
       "      <th>Percentage</th>\n",
       "      <th>validVotesPercentage</th>\n",
       "      <th>Votes</th>\n",
       "      <th>Hondt</th>\n",
       "      <th>FinalMandates</th>\n",
       "    </tr>\n",
       "  </thead>\n",
       "  <tbody>\n",
       "    <tr>\n",
       "      <th>0</th>\n",
       "      <td>0</td>\n",
       "      <td>2019-10-06 20:10:02</td>\n",
       "      <td>Território Nacional</td>\n",
       "      <td>0</td>\n",
       "      <td>226</td>\n",
       "      <td>3092</td>\n",
       "      <td>1081</td>\n",
       "      <td>9652</td>\n",
       "      <td>2.5</td>\n",
       "      <td>8874</td>\n",
       "      <td>...</td>\n",
       "      <td>52.66</td>\n",
       "      <td>813743</td>\n",
       "      <td>428546</td>\n",
       "      <td>PS</td>\n",
       "      <td>0</td>\n",
       "      <td>38.29</td>\n",
       "      <td>40.22</td>\n",
       "      <td>147993</td>\n",
       "      <td>94</td>\n",
       "      <td>106</td>\n",
       "    </tr>\n",
       "    <tr>\n",
       "      <th>1</th>\n",
       "      <td>0</td>\n",
       "      <td>2019-10-06 20:10:02</td>\n",
       "      <td>Território Nacional</td>\n",
       "      <td>0</td>\n",
       "      <td>226</td>\n",
       "      <td>3092</td>\n",
       "      <td>1081</td>\n",
       "      <td>9652</td>\n",
       "      <td>2.5</td>\n",
       "      <td>8874</td>\n",
       "      <td>...</td>\n",
       "      <td>52.66</td>\n",
       "      <td>813743</td>\n",
       "      <td>428546</td>\n",
       "      <td>PPD/PSD</td>\n",
       "      <td>0</td>\n",
       "      <td>33.28</td>\n",
       "      <td>34.95</td>\n",
       "      <td>128624</td>\n",
       "      <td>81</td>\n",
       "      <td>77</td>\n",
       "    </tr>\n",
       "    <tr>\n",
       "      <th>2</th>\n",
       "      <td>0</td>\n",
       "      <td>2019-10-06 20:10:02</td>\n",
       "      <td>Território Nacional</td>\n",
       "      <td>0</td>\n",
       "      <td>226</td>\n",
       "      <td>3092</td>\n",
       "      <td>1081</td>\n",
       "      <td>9652</td>\n",
       "      <td>2.5</td>\n",
       "      <td>8874</td>\n",
       "      <td>...</td>\n",
       "      <td>52.66</td>\n",
       "      <td>813743</td>\n",
       "      <td>428546</td>\n",
       "      <td>B.E.</td>\n",
       "      <td>0</td>\n",
       "      <td>6.81</td>\n",
       "      <td>7.15</td>\n",
       "      <td>26307</td>\n",
       "      <td>16</td>\n",
       "      <td>19</td>\n",
       "    </tr>\n",
       "    <tr>\n",
       "      <th>3</th>\n",
       "      <td>0</td>\n",
       "      <td>2019-10-06 20:10:02</td>\n",
       "      <td>Território Nacional</td>\n",
       "      <td>0</td>\n",
       "      <td>226</td>\n",
       "      <td>3092</td>\n",
       "      <td>1081</td>\n",
       "      <td>9652</td>\n",
       "      <td>2.5</td>\n",
       "      <td>8874</td>\n",
       "      <td>...</td>\n",
       "      <td>52.66</td>\n",
       "      <td>813743</td>\n",
       "      <td>428546</td>\n",
       "      <td>CDS-PP</td>\n",
       "      <td>0</td>\n",
       "      <td>4.90</td>\n",
       "      <td>5.14</td>\n",
       "      <td>18923</td>\n",
       "      <td>12</td>\n",
       "      <td>5</td>\n",
       "    </tr>\n",
       "    <tr>\n",
       "      <th>4</th>\n",
       "      <td>0</td>\n",
       "      <td>2019-10-06 20:10:02</td>\n",
       "      <td>Território Nacional</td>\n",
       "      <td>0</td>\n",
       "      <td>226</td>\n",
       "      <td>3092</td>\n",
       "      <td>1081</td>\n",
       "      <td>9652</td>\n",
       "      <td>2.5</td>\n",
       "      <td>8874</td>\n",
       "      <td>...</td>\n",
       "      <td>52.66</td>\n",
       "      <td>813743</td>\n",
       "      <td>428546</td>\n",
       "      <td>PCP-PEV</td>\n",
       "      <td>0</td>\n",
       "      <td>4.59</td>\n",
       "      <td>4.83</td>\n",
       "      <td>17757</td>\n",
       "      <td>11</td>\n",
       "      <td>12</td>\n",
       "    </tr>\n",
       "  </tbody>\n",
       "</table>\n",
       "<p>5 rows × 28 columns</p>\n",
       "</div>"
      ],
      "text/plain": [
       "   TimeElapsed                 time        territoryName  totalMandates  \\\n",
       "0            0  2019-10-06 20:10:02  Território Nacional              0   \n",
       "1            0  2019-10-06 20:10:02  Território Nacional              0   \n",
       "2            0  2019-10-06 20:10:02  Território Nacional              0   \n",
       "3            0  2019-10-06 20:10:02  Território Nacional              0   \n",
       "4            0  2019-10-06 20:10:02  Território Nacional              0   \n",
       "\n",
       "   availableMandates  numParishes  numParishesApproved  blankVotes  \\\n",
       "0                226         3092                 1081        9652   \n",
       "1                226         3092                 1081        9652   \n",
       "2                226         3092                 1081        9652   \n",
       "3                226         3092                 1081        9652   \n",
       "4                226         3092                 1081        9652   \n",
       "\n",
       "   blankVotesPercentage  nullVotes  ...  pre.votersPercentage  \\\n",
       "0                   2.5       8874  ...                 52.66   \n",
       "1                   2.5       8874  ...                 52.66   \n",
       "2                   2.5       8874  ...                 52.66   \n",
       "3                   2.5       8874  ...                 52.66   \n",
       "4                   2.5       8874  ...                 52.66   \n",
       "\n",
       "   pre.subscribedVoters  pre.totalVoters    Party  Mandates  Percentage  \\\n",
       "0                813743           428546       PS         0       38.29   \n",
       "1                813743           428546  PPD/PSD         0       33.28   \n",
       "2                813743           428546     B.E.         0        6.81   \n",
       "3                813743           428546   CDS-PP         0        4.90   \n",
       "4                813743           428546  PCP-PEV         0        4.59   \n",
       "\n",
       "   validVotesPercentage   Votes  Hondt  FinalMandates  \n",
       "0                 40.22  147993     94            106  \n",
       "1                 34.95  128624     81             77  \n",
       "2                  7.15   26307     16             19  \n",
       "3                  5.14   18923     12              5  \n",
       "4                  4.83   17757     11             12  \n",
       "\n",
       "[5 rows x 28 columns]"
      ]
     },
     "execution_count": 27,
     "metadata": {},
     "output_type": "execute_result"
    }
   ],
   "source": [
    "df=pd.read_csv('ElectionData.csv')#,parse_dates=['Date']\n",
    "df.head()"
   ]
  },
  {
   "cell_type": "code",
   "execution_count": 3,
   "metadata": {},
   "outputs": [],
   "source": [
    "#df=pd.read_csv('votes_parishes.csv')#,parse_dates=['Date']\n",
    "#df=pd.read_csv('votes.csv')#,parse_dates=['Date']\n",
    "#df=pd.read_csv('parishes.csv')#,parse_dates=['Date']\n",
    "#df=pd.read_csv('overall_results.csv')#,parse_dates=['Date']"
   ]
  },
  {
   "cell_type": "raw",
   "metadata": {},
   "source": [
    "FinalMandates-->Target variable\n"
   ]
  },
  {
   "cell_type": "code",
   "execution_count": null,
   "metadata": {},
   "outputs": [],
   "source": [
    "df.columns"
   ]
  },
  {
   "cell_type": "code",
   "execution_count": 5,
   "metadata": {},
   "outputs": [
    {
     "data": {
      "text/plain": [
       "TimeElapsed                   int64\n",
       "time                         object\n",
       "territoryName                object\n",
       "totalMandates                 int64\n",
       "availableMandates             int64\n",
       "numParishes                   int64\n",
       "numParishesApproved           int64\n",
       "blankVotes                    int64\n",
       "blankVotesPercentage        float64\n",
       "nullVotes                     int64\n",
       "nullVotesPercentage         float64\n",
       "votersPercentage            float64\n",
       "subscribedVoters              int64\n",
       "totalVoters                   int64\n",
       "pre.blankVotes                int64\n",
       "pre.blankVotesPercentage    float64\n",
       "pre.nullVotes                 int64\n",
       "pre.nullVotesPercentage     float64\n",
       "pre.votersPercentage        float64\n",
       "pre.subscribedVoters          int64\n",
       "pre.totalVoters               int64\n",
       "Party                        object\n",
       "Mandates                      int64\n",
       "Percentage                  float64\n",
       "validVotesPercentage        float64\n",
       "Votes                         int64\n",
       "Hondt                         int64\n",
       "FinalMandates                 int64\n",
       "dtype: object"
      ]
     },
     "execution_count": 5,
     "metadata": {},
     "output_type": "execute_result"
    }
   ],
   "source": [
    "df.dtypes"
   ]
  },
  {
   "cell_type": "code",
   "execution_count": 6,
   "metadata": {},
   "outputs": [
    {
     "name": "stdout",
     "output_type": "stream",
     "text": [
      "<class 'pandas.core.frame.DataFrame'>\n",
      "RangeIndex: 21643 entries, 0 to 21642\n",
      "Data columns (total 28 columns):\n",
      " #   Column                    Non-Null Count  Dtype  \n",
      "---  ------                    --------------  -----  \n",
      " 0   TimeElapsed               21643 non-null  int64  \n",
      " 1   time                      21643 non-null  object \n",
      " 2   territoryName             21643 non-null  object \n",
      " 3   totalMandates             21643 non-null  int64  \n",
      " 4   availableMandates         21643 non-null  int64  \n",
      " 5   numParishes               21643 non-null  int64  \n",
      " 6   numParishesApproved       21643 non-null  int64  \n",
      " 7   blankVotes                21643 non-null  int64  \n",
      " 8   blankVotesPercentage      21643 non-null  float64\n",
      " 9   nullVotes                 21643 non-null  int64  \n",
      " 10  nullVotesPercentage       21643 non-null  float64\n",
      " 11  votersPercentage          21643 non-null  float64\n",
      " 12  subscribedVoters          21643 non-null  int64  \n",
      " 13  totalVoters               21643 non-null  int64  \n",
      " 14  pre.blankVotes            21643 non-null  int64  \n",
      " 15  pre.blankVotesPercentage  21643 non-null  float64\n",
      " 16  pre.nullVotes             21643 non-null  int64  \n",
      " 17  pre.nullVotesPercentage   21643 non-null  float64\n",
      " 18  pre.votersPercentage      21643 non-null  float64\n",
      " 19  pre.subscribedVoters      21643 non-null  int64  \n",
      " 20  pre.totalVoters           21643 non-null  int64  \n",
      " 21  Party                     21643 non-null  object \n",
      " 22  Mandates                  21643 non-null  int64  \n",
      " 23  Percentage                21643 non-null  float64\n",
      " 24  validVotesPercentage      21643 non-null  float64\n",
      " 25  Votes                     21643 non-null  int64  \n",
      " 26  Hondt                     21643 non-null  int64  \n",
      " 27  FinalMandates             21643 non-null  int64  \n",
      "dtypes: float64(8), int64(17), object(3)\n",
      "memory usage: 4.6+ MB\n"
     ]
    }
   ],
   "source": [
    "df.info()"
   ]
  },
  {
   "cell_type": "code",
   "execution_count": 7,
   "metadata": {},
   "outputs": [],
   "source": [
    "#dtypes: float64(8), int64(17), object(3)"
   ]
  },
  {
   "cell_type": "code",
   "execution_count": 56,
   "metadata": {},
   "outputs": [
    {
     "data": {
      "text/html": [
       "<div>\n",
       "<style scoped>\n",
       "    .dataframe tbody tr th:only-of-type {\n",
       "        vertical-align: middle;\n",
       "    }\n",
       "\n",
       "    .dataframe tbody tr th {\n",
       "        vertical-align: top;\n",
       "    }\n",
       "\n",
       "    .dataframe thead th {\n",
       "        text-align: right;\n",
       "    }\n",
       "</style>\n",
       "<table border=\"1\" class=\"dataframe\">\n",
       "  <thead>\n",
       "    <tr style=\"text-align: right;\">\n",
       "      <th></th>\n",
       "      <th>TimeElapsed</th>\n",
       "      <th>time</th>\n",
       "      <th>territoryName</th>\n",
       "      <th>availableMandates</th>\n",
       "      <th>numParishes</th>\n",
       "      <th>blankVotesPercentage</th>\n",
       "      <th>nullVotesPercentage</th>\n",
       "      <th>votersPercentage</th>\n",
       "      <th>pre.nullVotesPercentage</th>\n",
       "      <th>Party</th>\n",
       "      <th>validVotesPercentage</th>\n",
       "      <th>Votes</th>\n",
       "      <th>Hondt</th>\n",
       "      <th>FinalMandates</th>\n",
       "    </tr>\n",
       "  </thead>\n",
       "  <tbody>\n",
       "    <tr>\n",
       "      <th>count</th>\n",
       "      <td>21643.000000</td>\n",
       "      <td>21643</td>\n",
       "      <td>21643</td>\n",
       "      <td>21643.000000</td>\n",
       "      <td>21643.000000</td>\n",
       "      <td>21643.000000</td>\n",
       "      <td>21643.000000</td>\n",
       "      <td>21643.000000</td>\n",
       "      <td>21643.000000</td>\n",
       "      <td>21643</td>\n",
       "      <td>21643.000000</td>\n",
       "      <td>2.164300e+04</td>\n",
       "      <td>21643.000000</td>\n",
       "      <td>21643.000000</td>\n",
       "    </tr>\n",
       "    <tr>\n",
       "      <th>unique</th>\n",
       "      <td>NaN</td>\n",
       "      <td>54</td>\n",
       "      <td>21</td>\n",
       "      <td>NaN</td>\n",
       "      <td>NaN</td>\n",
       "      <td>NaN</td>\n",
       "      <td>NaN</td>\n",
       "      <td>NaN</td>\n",
       "      <td>NaN</td>\n",
       "      <td>21</td>\n",
       "      <td>NaN</td>\n",
       "      <td>NaN</td>\n",
       "      <td>NaN</td>\n",
       "      <td>NaN</td>\n",
       "    </tr>\n",
       "    <tr>\n",
       "      <th>top</th>\n",
       "      <td>NaN</td>\n",
       "      <td>2019-10-06 21:20:02</td>\n",
       "      <td>Território Nacional</td>\n",
       "      <td>NaN</td>\n",
       "      <td>NaN</td>\n",
       "      <td>NaN</td>\n",
       "      <td>NaN</td>\n",
       "      <td>NaN</td>\n",
       "      <td>NaN</td>\n",
       "      <td>PCTP/MRPP</td>\n",
       "      <td>NaN</td>\n",
       "      <td>NaN</td>\n",
       "      <td>NaN</td>\n",
       "      <td>NaN</td>\n",
       "    </tr>\n",
       "    <tr>\n",
       "      <th>freq</th>\n",
       "      <td>NaN</td>\n",
       "      <td>403</td>\n",
       "      <td>1134</td>\n",
       "      <td>NaN</td>\n",
       "      <td>NaN</td>\n",
       "      <td>NaN</td>\n",
       "      <td>NaN</td>\n",
       "      <td>NaN</td>\n",
       "      <td>NaN</td>\n",
       "      <td>1127</td>\n",
       "      <td>NaN</td>\n",
       "      <td>NaN</td>\n",
       "      <td>NaN</td>\n",
       "      <td>NaN</td>\n",
       "    </tr>\n",
       "    <tr>\n",
       "      <th>mean</th>\n",
       "      <td>133.146052</td>\n",
       "      <td>NaN</td>\n",
       "      <td>NaN</td>\n",
       "      <td>11.499284</td>\n",
       "      <td>309.956013</td>\n",
       "      <td>2.621629</td>\n",
       "      <td>1.961471</td>\n",
       "      <td>51.983722</td>\n",
       "      <td>1.777442</td>\n",
       "      <td>NaN</td>\n",
       "      <td>5.207232</td>\n",
       "      <td>1.585209e+04</td>\n",
       "      <td>1.126138</td>\n",
       "      <td>1.126138</td>\n",
       "    </tr>\n",
       "    <tr>\n",
       "      <th>std</th>\n",
       "      <td>77.651193</td>\n",
       "      <td>NaN</td>\n",
       "      <td>NaN</td>\n",
       "      <td>31.738783</td>\n",
       "      <td>659.055911</td>\n",
       "      <td>0.795289</td>\n",
       "      <td>0.375250</td>\n",
       "      <td>4.854380</td>\n",
       "      <td>0.388798</td>\n",
       "      <td>NaN</td>\n",
       "      <td>10.881108</td>\n",
       "      <td>9.310605e+04</td>\n",
       "      <td>6.293552</td>\n",
       "      <td>6.872644</td>\n",
       "    </tr>\n",
       "    <tr>\n",
       "      <th>min</th>\n",
       "      <td>0.000000</td>\n",
       "      <td>NaN</td>\n",
       "      <td>NaN</td>\n",
       "      <td>0.000000</td>\n",
       "      <td>54.000000</td>\n",
       "      <td>0.530000</td>\n",
       "      <td>1.340000</td>\n",
       "      <td>35.980000</td>\n",
       "      <td>1.140000</td>\n",
       "      <td>NaN</td>\n",
       "      <td>0.020000</td>\n",
       "      <td>1.000000e+00</td>\n",
       "      <td>0.000000</td>\n",
       "      <td>0.000000</td>\n",
       "    </tr>\n",
       "    <tr>\n",
       "      <th>25%</th>\n",
       "      <td>65.000000</td>\n",
       "      <td>NaN</td>\n",
       "      <td>NaN</td>\n",
       "      <td>0.000000</td>\n",
       "      <td>75.000000</td>\n",
       "      <td>2.230000</td>\n",
       "      <td>1.720000</td>\n",
       "      <td>50.290000</td>\n",
       "      <td>1.520000</td>\n",
       "      <td>NaN</td>\n",
       "      <td>0.230000</td>\n",
       "      <td>2.360000e+02</td>\n",
       "      <td>0.000000</td>\n",
       "      <td>0.000000</td>\n",
       "    </tr>\n",
       "    <tr>\n",
       "      <th>50%</th>\n",
       "      <td>135.000000</td>\n",
       "      <td>NaN</td>\n",
       "      <td>NaN</td>\n",
       "      <td>3.000000</td>\n",
       "      <td>147.000000</td>\n",
       "      <td>2.640000</td>\n",
       "      <td>1.870000</td>\n",
       "      <td>53.130000</td>\n",
       "      <td>1.690000</td>\n",
       "      <td>NaN</td>\n",
       "      <td>0.650000</td>\n",
       "      <td>7.900000e+02</td>\n",
       "      <td>0.000000</td>\n",
       "      <td>0.000000</td>\n",
       "    </tr>\n",
       "    <tr>\n",
       "      <th>75%</th>\n",
       "      <td>200.000000</td>\n",
       "      <td>NaN</td>\n",
       "      <td>NaN</td>\n",
       "      <td>9.000000</td>\n",
       "      <td>242.000000</td>\n",
       "      <td>2.980000</td>\n",
       "      <td>2.230000</td>\n",
       "      <td>54.550000</td>\n",
       "      <td>1.970000</td>\n",
       "      <td>NaN</td>\n",
       "      <td>3.160000</td>\n",
       "      <td>4.510000e+03</td>\n",
       "      <td>0.000000</td>\n",
       "      <td>0.000000</td>\n",
       "    </tr>\n",
       "    <tr>\n",
       "      <th>max</th>\n",
       "      <td>265.000000</td>\n",
       "      <td>NaN</td>\n",
       "      <td>NaN</td>\n",
       "      <td>226.000000</td>\n",
       "      <td>3092.000000</td>\n",
       "      <td>5.460000</td>\n",
       "      <td>3.350000</td>\n",
       "      <td>59.870000</td>\n",
       "      <td>3.120000</td>\n",
       "      <td>NaN</td>\n",
       "      <td>51.420000</td>\n",
       "      <td>1.866407e+06</td>\n",
       "      <td>94.000000</td>\n",
       "      <td>106.000000</td>\n",
       "    </tr>\n",
       "  </tbody>\n",
       "</table>\n",
       "</div>"
      ],
      "text/plain": [
       "         TimeElapsed                 time        territoryName  \\\n",
       "count   21643.000000                21643                21643   \n",
       "unique           NaN                   54                   21   \n",
       "top              NaN  2019-10-06 21:20:02  Território Nacional   \n",
       "freq             NaN                  403                 1134   \n",
       "mean      133.146052                  NaN                  NaN   \n",
       "std        77.651193                  NaN                  NaN   \n",
       "min         0.000000                  NaN                  NaN   \n",
       "25%        65.000000                  NaN                  NaN   \n",
       "50%       135.000000                  NaN                  NaN   \n",
       "75%       200.000000                  NaN                  NaN   \n",
       "max       265.000000                  NaN                  NaN   \n",
       "\n",
       "        availableMandates   numParishes  blankVotesPercentage  \\\n",
       "count        21643.000000  21643.000000          21643.000000   \n",
       "unique                NaN           NaN                   NaN   \n",
       "top                   NaN           NaN                   NaN   \n",
       "freq                  NaN           NaN                   NaN   \n",
       "mean            11.499284    309.956013              2.621629   \n",
       "std             31.738783    659.055911              0.795289   \n",
       "min              0.000000     54.000000              0.530000   \n",
       "25%              0.000000     75.000000              2.230000   \n",
       "50%              3.000000    147.000000              2.640000   \n",
       "75%              9.000000    242.000000              2.980000   \n",
       "max            226.000000   3092.000000              5.460000   \n",
       "\n",
       "        nullVotesPercentage  votersPercentage  pre.nullVotesPercentage  \\\n",
       "count          21643.000000      21643.000000             21643.000000   \n",
       "unique                  NaN               NaN                      NaN   \n",
       "top                     NaN               NaN                      NaN   \n",
       "freq                    NaN               NaN                      NaN   \n",
       "mean               1.961471         51.983722                 1.777442   \n",
       "std                0.375250          4.854380                 0.388798   \n",
       "min                1.340000         35.980000                 1.140000   \n",
       "25%                1.720000         50.290000                 1.520000   \n",
       "50%                1.870000         53.130000                 1.690000   \n",
       "75%                2.230000         54.550000                 1.970000   \n",
       "max                3.350000         59.870000                 3.120000   \n",
       "\n",
       "            Party  validVotesPercentage         Votes         Hondt  \\\n",
       "count       21643          21643.000000  2.164300e+04  21643.000000   \n",
       "unique         21                   NaN           NaN           NaN   \n",
       "top     PCTP/MRPP                   NaN           NaN           NaN   \n",
       "freq         1127                   NaN           NaN           NaN   \n",
       "mean          NaN              5.207232  1.585209e+04      1.126138   \n",
       "std           NaN             10.881108  9.310605e+04      6.293552   \n",
       "min           NaN              0.020000  1.000000e+00      0.000000   \n",
       "25%           NaN              0.230000  2.360000e+02      0.000000   \n",
       "50%           NaN              0.650000  7.900000e+02      0.000000   \n",
       "75%           NaN              3.160000  4.510000e+03      0.000000   \n",
       "max           NaN             51.420000  1.866407e+06     94.000000   \n",
       "\n",
       "        FinalMandates  \n",
       "count    21643.000000  \n",
       "unique            NaN  \n",
       "top               NaN  \n",
       "freq              NaN  \n",
       "mean         1.126138  \n",
       "std          6.872644  \n",
       "min          0.000000  \n",
       "25%          0.000000  \n",
       "50%          0.000000  \n",
       "75%          0.000000  \n",
       "max        106.000000  "
      ]
     },
     "execution_count": 56,
     "metadata": {},
     "output_type": "execute_result"
    }
   ],
   "source": [
    "df.describe(include='all')"
   ]
  },
  {
   "cell_type": "code",
   "execution_count": 9,
   "metadata": {},
   "outputs": [
    {
     "name": "stdout",
     "output_type": "stream",
     "text": [
      "2019-10-06 21:55:01    403\n",
      "2019-10-06 22:35:01    403\n",
      "2019-10-06 21:15:02    403\n",
      "2019-10-06 23:05:01    403\n",
      "2019-10-06 21:35:01    403\n",
      "2019-10-06 22:20:02    403\n",
      "2019-10-06 22:15:01    403\n",
      "2019-10-06 23:45:02    403\n",
      "2019-10-07 00:00:02    403\n",
      "2019-10-06 21:00:01    403\n",
      "2019-10-06 21:40:02    403\n",
      "2019-10-07 00:30:02    403\n",
      "2019-10-06 22:30:01    403\n",
      "2019-10-07 00:35:01    403\n",
      "2019-10-06 21:50:01    403\n",
      "2019-10-06 21:05:01    403\n",
      "2019-10-06 21:20:02    403\n",
      "2019-10-06 23:20:01    403\n",
      "2019-10-06 23:00:01    403\n",
      "2019-10-06 22:10:01    403\n",
      "2019-10-06 22:25:01    403\n",
      "2019-10-07 00:25:01    403\n",
      "2019-10-07 00:05:01    403\n",
      "2019-10-06 23:10:02    403\n",
      "2019-10-06 20:50:01    403\n",
      "2019-10-06 21:30:01    403\n",
      "2019-10-07 00:10:02    403\n",
      "2019-10-06 23:25:02    403\n",
      "2019-10-06 22:45:01    403\n",
      "2019-10-06 20:55:01    403\n",
      "2019-10-06 23:40:01    403\n",
      "2019-10-06 23:55:01    403\n",
      "2019-10-06 21:45:02    403\n",
      "2019-10-06 22:50:01    403\n",
      "2019-10-06 22:40:02    403\n",
      "2019-10-06 22:05:02    403\n",
      "2019-10-06 23:15:01    403\n",
      "2019-10-07 00:20:02    403\n",
      "2019-10-06 22:55:02    403\n",
      "2019-10-06 23:50:02    403\n",
      "2019-10-06 21:25:02    403\n",
      "2019-10-06 20:45:02    403\n",
      "2019-10-06 21:10:01    403\n",
      "2019-10-06 22:00:02    403\n",
      "2019-10-06 23:30:01    403\n",
      "2019-10-06 23:35:02    403\n",
      "2019-10-07 00:15:01    403\n",
      "2019-10-06 20:35:02    386\n",
      "2019-10-06 20:10:02    386\n",
      "2019-10-06 20:15:02    386\n",
      "2019-10-06 20:20:02    386\n",
      "2019-10-06 20:40:02    386\n",
      "2019-10-06 20:30:02    386\n",
      "2019-10-06 20:25:02    386\n",
      "Name: time, dtype: int64\n",
      "\n",
      "Porto                  1134\n",
      "Território Nacional    1134\n",
      "Leiria                 1134\n",
      "Braga                  1134\n",
      "Coimbra                1080\n",
      "Madeira                1080\n",
      "Viana do Castelo       1080\n",
      "Lisboa                 1080\n",
      "Aveiro                 1080\n",
      "Viseu                  1080\n",
      "Setúbal                1080\n",
      "Évora                  1026\n",
      "Guarda                 1026\n",
      "Faro                   1026\n",
      "Santarém               1026\n",
      "Castelo Branco          972\n",
      "Bragança                972\n",
      "Beja                    918\n",
      "Portalegre              918\n",
      "Vila Real               864\n",
      "Açores                  799\n",
      "Name: territoryName, dtype: int64\n",
      "\n",
      "B.E.         1127\n",
      "PS           1127\n",
      "PCTP/MRPP    1127\n",
      "PNR          1127\n",
      "PDR          1127\n",
      "A            1127\n",
      "IL           1127\n",
      "PAN          1127\n",
      "L            1127\n",
      "CDS-PP       1127\n",
      "PPD/PSD      1127\n",
      "PCP-PEV      1127\n",
      "CH           1127\n",
      "PPM          1073\n",
      "R.I.R.       1026\n",
      "MPT          1019\n",
      "PTP          1019\n",
      "PURP          972\n",
      "NC            972\n",
      "JPP           486\n",
      "MAS           425\n",
      "Name: Party, dtype: int64\n",
      "\n"
     ]
    }
   ],
   "source": [
    "for col in df.columns:\n",
    "    if df[col].dtype==\"object\":\n",
    "        print(df[col].value_counts())\n",
    "        print()"
   ]
  },
  {
   "cell_type": "code",
   "execution_count": 10,
   "metadata": {},
   "outputs": [
    {
     "data": {
      "text/plain": [
       "0      17823\n",
       "1       1134\n",
       "2        695\n",
       "3        641\n",
       "4        378\n",
       "5        270\n",
       "8        108\n",
       "12       108\n",
       "7         54\n",
       "6         54\n",
       "77        54\n",
       "20        54\n",
       "19        54\n",
       "9         54\n",
       "106       54\n",
       "17        54\n",
       "15        54\n",
       "Name: FinalMandates, dtype: int64"
      ]
     },
     "execution_count": 10,
     "metadata": {},
     "output_type": "execute_result"
    }
   ],
   "source": [
    "df['FinalMandates'].value_counts()"
   ]
  },
  {
   "cell_type": "code",
   "execution_count": 11,
   "metadata": {},
   "outputs": [],
   "source": [
    "#Classification?"
   ]
  },
  {
   "cell_type": "code",
   "execution_count": 12,
   "metadata": {},
   "outputs": [
    {
     "data": {
      "text/plain": [
       "<matplotlib.axes._subplots.AxesSubplot at 0x2327dd0d388>"
      ]
     },
     "execution_count": 12,
     "metadata": {},
     "output_type": "execute_result"
    },
    {
     "data": {
      "image/png": "[encoded data removed]",
      "text/plain": [
       "<Figure size 1440x864 with 2 Axes>"
      ]
     },
     "metadata": {
      "needs_background": "light"
     },
     "output_type": "display_data"
    }
   ],
   "source": [
    "plt.figure(figsize=(20,12))\n",
    "sns.heatmap(df.corr(), annot=True)"
   ]
  },
  {
   "cell_type": "raw",
   "metadata": {},
   "source": [
    "?????????????????????????????????????????????????????????????????"
   ]
  },
  {
   "cell_type": "code",
   "execution_count": null,
   "metadata": {},
   "outputs": [],
   "source": []
  },
  {
   "cell_type": "code",
   "execution_count": 43,
   "metadata": {},
   "outputs": [],
   "source": [
    "# multicolinearity "
   ]
  },
  {
   "cell_type": "code",
   "execution_count": 44,
   "metadata": {},
   "outputs": [],
   "source": [
    "#Multicollinearity occurs when two or more independent variables are highly correlated with one another in a regression model\n",
    "#This means that an independent variable can be predicted from another independent variable in a regression model"
   ]
  },
  {
   "cell_type": "raw",
   "metadata": {},
   "source": [
    "Avoiding multicollinearity"
   ]
  },
  {
   "cell_type": "raw",
   "metadata": {},
   "source": [
    "#from statsmodels.stats.outliers_influence import variance_inflation_factor\n",
    "#def calc_vif(df):\n",
    "\n",
    "    # Calculating VIF\n",
    "    vif = pd.DataFrame()\n",
    "    vif[\"variables\"] = X.columns\n",
    "    vif[\"VIF\"] = [variance_inflation_factor(X.values, i) for i in range(X.shape[1])]\n",
    "\n",
    "    return(vif)\n"
   ]
  },
  {
   "cell_type": "code",
   "execution_count": null,
   "metadata": {},
   "outputs": [],
   "source": []
  },
  {
   "cell_type": "markdown",
   "metadata": {},
   "source": [
    "Dropping the multicollinear columns"
   ]
  },
  {
   "cell_type": "code",
   "execution_count": 28,
   "metadata": {},
   "outputs": [],
   "source": [
    "df.drop(['totalMandates','numParishesApproved','blankVotes','nullVotes','subscribedVoters','totalVoters','pre.blankVotes','pre.nullVotes','pre.subscribedVoters','pre.totalVoters','Percentage','Mandates','pre.blankVotesPercentage','pre.votersPercentage'],axis=1,inplace=True)"
   ]
  },
  {
   "cell_type": "code",
   "execution_count": 41,
   "metadata": {},
   "outputs": [],
   "source": [
    "#I got to know it does not effect the target variable"
   ]
  },
  {
   "cell_type": "code",
   "execution_count": 42,
   "metadata": {},
   "outputs": [],
   "source": [
    "#its confusing to delete the columns"
   ]
  },
  {
   "cell_type": "code",
   "execution_count": null,
   "metadata": {},
   "outputs": [],
   "source": []
  },
  {
   "cell_type": "code",
   "execution_count": 16,
   "metadata": {},
   "outputs": [],
   "source": [
    "#checking null values"
   ]
  },
  {
   "cell_type": "code",
   "execution_count": 4,
   "metadata": {},
   "outputs": [
    {
     "data": {
      "text/plain": [
       "TimeElapsed                0\n",
       "time                       0\n",
       "territoryName              0\n",
       "availableMandates          0\n",
       "numParishes                0\n",
       "blankVotesPercentage       0\n",
       "nullVotesPercentage        0\n",
       "votersPercentage           0\n",
       "pre.nullVotesPercentage    0\n",
       "Party                      0\n",
       "validVotesPercentage       0\n",
       "Votes                      0\n",
       "Hondt                      0\n",
       "FinalMandates              0\n",
       "dtype: int64"
      ]
     },
     "execution_count": 4,
     "metadata": {},
     "output_type": "execute_result"
    }
   ],
   "source": [
    "df.isnull().sum()"
   ]
  },
  {
   "cell_type": "markdown",
   "metadata": {},
   "source": [
    "#LABELENCODING"
   ]
  },
  {
   "cell_type": "code",
   "execution_count": 58,
   "metadata": {},
   "outputs": [],
   "source": [
    "df['Dates'] = pd.to_datetime(df['time']).dt.date\n",
    "df['Time'] = pd.to_datetime(df['time']).dt.time"
   ]
  },
  {
   "cell_type": "code",
   "execution_count": 59,
   "metadata": {},
   "outputs": [],
   "source": [
    "df.drop(['time'],axis=1,inplace=True)"
   ]
  },
  {
   "cell_type": "code",
   "execution_count": 60,
   "metadata": {},
   "outputs": [],
   "source": [
    "from sklearn.preprocessing import LabelEncoder\n",
    "for col in df.columns:\n",
    "    if df[col].dtype==\"object\":\n",
    "        df[col]=LabelEncoder().fit_transform(df[col])"
   ]
  },
  {
   "cell_type": "code",
   "execution_count": 61,
   "metadata": {},
   "outputs": [
    {
     "data": {
      "text/html": [
       "<div>\n",
       "<style scoped>\n",
       "    .dataframe tbody tr th:only-of-type {\n",
       "        vertical-align: middle;\n",
       "    }\n",
       "\n",
       "    .dataframe tbody tr th {\n",
       "        vertical-align: top;\n",
       "    }\n",
       "\n",
       "    .dataframe thead th {\n",
       "        text-align: right;\n",
       "    }\n",
       "</style>\n",
       "<table border=\"1\" class=\"dataframe\">\n",
       "  <thead>\n",
       "    <tr style=\"text-align: right;\">\n",
       "      <th></th>\n",
       "      <th>TimeElapsed</th>\n",
       "      <th>territoryName</th>\n",
       "      <th>availableMandates</th>\n",
       "      <th>numParishes</th>\n",
       "      <th>blankVotesPercentage</th>\n",
       "      <th>nullVotesPercentage</th>\n",
       "      <th>votersPercentage</th>\n",
       "      <th>pre.nullVotesPercentage</th>\n",
       "      <th>Party</th>\n",
       "      <th>validVotesPercentage</th>\n",
       "      <th>Votes</th>\n",
       "      <th>Hondt</th>\n",
       "      <th>FinalMandates</th>\n",
       "      <th>Dates</th>\n",
       "      <th>Time</th>\n",
       "    </tr>\n",
       "  </thead>\n",
       "  <tbody>\n",
       "    <tr>\n",
       "      <th>0</th>\n",
       "      <td>0</td>\n",
       "      <td>16</td>\n",
       "      <td>226</td>\n",
       "      <td>3092</td>\n",
       "      <td>2.50</td>\n",
       "      <td>2.30</td>\n",
       "      <td>51.36</td>\n",
       "      <td>1.91</td>\n",
       "      <td>17</td>\n",
       "      <td>40.22</td>\n",
       "      <td>147993</td>\n",
       "      <td>94</td>\n",
       "      <td>106</td>\n",
       "      <td>0</td>\n",
       "      <td>8</td>\n",
       "    </tr>\n",
       "    <tr>\n",
       "      <th>1</th>\n",
       "      <td>0</td>\n",
       "      <td>16</td>\n",
       "      <td>226</td>\n",
       "      <td>3092</td>\n",
       "      <td>2.50</td>\n",
       "      <td>2.30</td>\n",
       "      <td>51.36</td>\n",
       "      <td>1.91</td>\n",
       "      <td>15</td>\n",
       "      <td>34.95</td>\n",
       "      <td>128624</td>\n",
       "      <td>81</td>\n",
       "      <td>77</td>\n",
       "      <td>0</td>\n",
       "      <td>8</td>\n",
       "    </tr>\n",
       "    <tr>\n",
       "      <th>2</th>\n",
       "      <td>0</td>\n",
       "      <td>16</td>\n",
       "      <td>226</td>\n",
       "      <td>3092</td>\n",
       "      <td>2.50</td>\n",
       "      <td>2.30</td>\n",
       "      <td>51.36</td>\n",
       "      <td>1.91</td>\n",
       "      <td>1</td>\n",
       "      <td>7.15</td>\n",
       "      <td>26307</td>\n",
       "      <td>16</td>\n",
       "      <td>19</td>\n",
       "      <td>0</td>\n",
       "      <td>8</td>\n",
       "    </tr>\n",
       "    <tr>\n",
       "      <th>3</th>\n",
       "      <td>0</td>\n",
       "      <td>16</td>\n",
       "      <td>226</td>\n",
       "      <td>3092</td>\n",
       "      <td>2.50</td>\n",
       "      <td>2.30</td>\n",
       "      <td>51.36</td>\n",
       "      <td>1.91</td>\n",
       "      <td>2</td>\n",
       "      <td>5.14</td>\n",
       "      <td>18923</td>\n",
       "      <td>12</td>\n",
       "      <td>5</td>\n",
       "      <td>0</td>\n",
       "      <td>8</td>\n",
       "    </tr>\n",
       "    <tr>\n",
       "      <th>4</th>\n",
       "      <td>0</td>\n",
       "      <td>16</td>\n",
       "      <td>226</td>\n",
       "      <td>3092</td>\n",
       "      <td>2.50</td>\n",
       "      <td>2.30</td>\n",
       "      <td>51.36</td>\n",
       "      <td>1.91</td>\n",
       "      <td>11</td>\n",
       "      <td>4.83</td>\n",
       "      <td>17757</td>\n",
       "      <td>11</td>\n",
       "      <td>12</td>\n",
       "      <td>0</td>\n",
       "      <td>8</td>\n",
       "    </tr>\n",
       "    <tr>\n",
       "      <th>...</th>\n",
       "      <td>...</td>\n",
       "      <td>...</td>\n",
       "      <td>...</td>\n",
       "      <td>...</td>\n",
       "      <td>...</td>\n",
       "      <td>...</td>\n",
       "      <td>...</td>\n",
       "      <td>...</td>\n",
       "      <td>...</td>\n",
       "      <td>...</td>\n",
       "      <td>...</td>\n",
       "      <td>...</td>\n",
       "      <td>...</td>\n",
       "      <td>...</td>\n",
       "      <td>...</td>\n",
       "    </tr>\n",
       "    <tr>\n",
       "      <th>21638</th>\n",
       "      <td>265</td>\n",
       "      <td>19</td>\n",
       "      <td>0</td>\n",
       "      <td>277</td>\n",
       "      <td>2.81</td>\n",
       "      <td>2.08</td>\n",
       "      <td>51.04</td>\n",
       "      <td>1.90</td>\n",
       "      <td>9</td>\n",
       "      <td>0.20</td>\n",
       "      <td>332</td>\n",
       "      <td>0</td>\n",
       "      <td>0</td>\n",
       "      <td>1</td>\n",
       "      <td>7</td>\n",
       "    </tr>\n",
       "    <tr>\n",
       "      <th>21639</th>\n",
       "      <td>265</td>\n",
       "      <td>19</td>\n",
       "      <td>0</td>\n",
       "      <td>277</td>\n",
       "      <td>2.81</td>\n",
       "      <td>2.08</td>\n",
       "      <td>51.04</td>\n",
       "      <td>1.90</td>\n",
       "      <td>14</td>\n",
       "      <td>0.19</td>\n",
       "      <td>326</td>\n",
       "      <td>0</td>\n",
       "      <td>0</td>\n",
       "      <td>1</td>\n",
       "      <td>7</td>\n",
       "    </tr>\n",
       "    <tr>\n",
       "      <th>21640</th>\n",
       "      <td>265</td>\n",
       "      <td>19</td>\n",
       "      <td>0</td>\n",
       "      <td>277</td>\n",
       "      <td>2.81</td>\n",
       "      <td>2.08</td>\n",
       "      <td>51.04</td>\n",
       "      <td>1.90</td>\n",
       "      <td>8</td>\n",
       "      <td>0.15</td>\n",
       "      <td>256</td>\n",
       "      <td>0</td>\n",
       "      <td>0</td>\n",
       "      <td>1</td>\n",
       "      <td>7</td>\n",
       "    </tr>\n",
       "    <tr>\n",
       "      <th>21641</th>\n",
       "      <td>265</td>\n",
       "      <td>19</td>\n",
       "      <td>0</td>\n",
       "      <td>277</td>\n",
       "      <td>2.81</td>\n",
       "      <td>2.08</td>\n",
       "      <td>51.04</td>\n",
       "      <td>1.90</td>\n",
       "      <td>18</td>\n",
       "      <td>0.14</td>\n",
       "      <td>239</td>\n",
       "      <td>0</td>\n",
       "      <td>0</td>\n",
       "      <td>1</td>\n",
       "      <td>7</td>\n",
       "    </tr>\n",
       "    <tr>\n",
       "      <th>21642</th>\n",
       "      <td>265</td>\n",
       "      <td>19</td>\n",
       "      <td>0</td>\n",
       "      <td>277</td>\n",
       "      <td>2.81</td>\n",
       "      <td>2.08</td>\n",
       "      <td>51.04</td>\n",
       "      <td>1.90</td>\n",
       "      <td>5</td>\n",
       "      <td>0.07</td>\n",
       "      <td>118</td>\n",
       "      <td>0</td>\n",
       "      <td>0</td>\n",
       "      <td>1</td>\n",
       "      <td>7</td>\n",
       "    </tr>\n",
       "  </tbody>\n",
       "</table>\n",
       "<p>21643 rows × 15 columns</p>\n",
       "</div>"
      ],
      "text/plain": [
       "       TimeElapsed  territoryName  availableMandates  numParishes  \\\n",
       "0                0             16                226         3092   \n",
       "1                0             16                226         3092   \n",
       "2                0             16                226         3092   \n",
       "3                0             16                226         3092   \n",
       "4                0             16                226         3092   \n",
       "...            ...            ...                ...          ...   \n",
       "21638          265             19                  0          277   \n",
       "21639          265             19                  0          277   \n",
       "21640          265             19                  0          277   \n",
       "21641          265             19                  0          277   \n",
       "21642          265             19                  0          277   \n",
       "\n",
       "       blankVotesPercentage  nullVotesPercentage  votersPercentage  \\\n",
       "0                      2.50                 2.30             51.36   \n",
       "1                      2.50                 2.30             51.36   \n",
       "2                      2.50                 2.30             51.36   \n",
       "3                      2.50                 2.30             51.36   \n",
       "4                      2.50                 2.30             51.36   \n",
       "...                     ...                  ...               ...   \n",
       "21638                  2.81                 2.08             51.04   \n",
       "21639                  2.81                 2.08             51.04   \n",
       "21640                  2.81                 2.08             51.04   \n",
       "21641                  2.81                 2.08             51.04   \n",
       "21642                  2.81                 2.08             51.04   \n",
       "\n",
       "       pre.nullVotesPercentage  Party  validVotesPercentage   Votes  Hondt  \\\n",
       "0                         1.91     17                 40.22  147993     94   \n",
       "1                         1.91     15                 34.95  128624     81   \n",
       "2                         1.91      1                  7.15   26307     16   \n",
       "3                         1.91      2                  5.14   18923     12   \n",
       "4                         1.91     11                  4.83   17757     11   \n",
       "...                        ...    ...                   ...     ...    ...   \n",
       "21638                     1.90      9                  0.20     332      0   \n",
       "21639                     1.90     14                  0.19     326      0   \n",
       "21640                     1.90      8                  0.15     256      0   \n",
       "21641                     1.90     18                  0.14     239      0   \n",
       "21642                     1.90      5                  0.07     118      0   \n",
       "\n",
       "       FinalMandates  Dates  Time  \n",
       "0                106      0     8  \n",
       "1                 77      0     8  \n",
       "2                 19      0     8  \n",
       "3                  5      0     8  \n",
       "4                 12      0     8  \n",
       "...              ...    ...   ...  \n",
       "21638              0      1     7  \n",
       "21639              0      1     7  \n",
       "21640              0      1     7  \n",
       "21641              0      1     7  \n",
       "21642              0      1     7  \n",
       "\n",
       "[21643 rows x 15 columns]"
      ]
     },
     "execution_count": 61,
     "metadata": {},
     "output_type": "execute_result"
    }
   ],
   "source": [
    "df"
   ]
  },
  {
   "cell_type": "code",
   "execution_count": 9,
   "metadata": {},
   "outputs": [
    {
     "data": {
      "text/html": [
       "<div>\n",
       "<style scoped>\n",
       "    .dataframe tbody tr th:only-of-type {\n",
       "        vertical-align: middle;\n",
       "    }\n",
       "\n",
       "    .dataframe tbody tr th {\n",
       "        vertical-align: top;\n",
       "    }\n",
       "\n",
       "    .dataframe thead th {\n",
       "        text-align: right;\n",
       "    }\n",
       "</style>\n",
       "<table border=\"1\" class=\"dataframe\">\n",
       "  <thead>\n",
       "    <tr style=\"text-align: right;\">\n",
       "      <th></th>\n",
       "      <th>TimeElapsed</th>\n",
       "      <th>territoryName</th>\n",
       "      <th>availableMandates</th>\n",
       "      <th>numParishes</th>\n",
       "      <th>blankVotesPercentage</th>\n",
       "      <th>nullVotesPercentage</th>\n",
       "      <th>votersPercentage</th>\n",
       "      <th>pre.nullVotesPercentage</th>\n",
       "      <th>Party</th>\n",
       "      <th>validVotesPercentage</th>\n",
       "      <th>Votes</th>\n",
       "      <th>Hondt</th>\n",
       "      <th>FinalMandates</th>\n",
       "      <th>Dates</th>\n",
       "      <th>Time</th>\n",
       "    </tr>\n",
       "  </thead>\n",
       "  <tbody>\n",
       "    <tr>\n",
       "      <th>TimeElapsed</th>\n",
       "      <td>1.000000</td>\n",
       "      <td>-0.012674</td>\n",
       "      <td>-0.261627</td>\n",
       "      <td>-0.001944</td>\n",
       "      <td>0.034343</td>\n",
       "      <td>-0.225021</td>\n",
       "      <td>0.029698</td>\n",
       "      <td>-0.106054</td>\n",
       "      <td>-0.001169</td>\n",
       "      <td>0.000526</td>\n",
       "      <td>0.082417</td>\n",
       "      <td>-0.001100</td>\n",
       "      <td>-0.001007</td>\n",
       "      <td>0.616137</td>\n",
       "      <td>0.236346</td>\n",
       "    </tr>\n",
       "    <tr>\n",
       "      <th>territoryName</th>\n",
       "      <td>-0.012674</td>\n",
       "      <td>1.000000</td>\n",
       "      <td>0.181563</td>\n",
       "      <td>0.223300</td>\n",
       "      <td>-0.302412</td>\n",
       "      <td>-0.126432</td>\n",
       "      <td>0.104222</td>\n",
       "      <td>-0.083214</td>\n",
       "      <td>0.012263</td>\n",
       "      <td>-0.004874</td>\n",
       "      <td>0.078520</td>\n",
       "      <td>0.084131</td>\n",
       "      <td>0.077042</td>\n",
       "      <td>-0.003485</td>\n",
       "      <td>-0.008330</td>\n",
       "    </tr>\n",
       "    <tr>\n",
       "      <th>availableMandates</th>\n",
       "      <td>-0.261627</td>\n",
       "      <td>0.181563</td>\n",
       "      <td>1.000000</td>\n",
       "      <td>0.745472</td>\n",
       "      <td>-0.002806</td>\n",
       "      <td>0.029915</td>\n",
       "      <td>0.112293</td>\n",
       "      <td>-0.044174</td>\n",
       "      <td>-0.001882</td>\n",
       "      <td>-0.011052</td>\n",
       "      <td>0.152348</td>\n",
       "      <td>0.291310</td>\n",
       "      <td>0.266764</td>\n",
       "      <td>-0.136227</td>\n",
       "      <td>-0.092640</td>\n",
       "    </tr>\n",
       "    <tr>\n",
       "      <th>numParishes</th>\n",
       "      <td>-0.001944</td>\n",
       "      <td>0.223300</td>\n",
       "      <td>0.745472</td>\n",
       "      <td>1.000000</td>\n",
       "      <td>0.032013</td>\n",
       "      <td>0.013209</td>\n",
       "      <td>0.073855</td>\n",
       "      <td>-0.058017</td>\n",
       "      <td>-0.004013</td>\n",
       "      <td>-0.010624</td>\n",
       "      <td>0.343593</td>\n",
       "      <td>0.359283</td>\n",
       "      <td>0.329009</td>\n",
       "      <td>-0.000534</td>\n",
       "      <td>-0.001277</td>\n",
       "    </tr>\n",
       "    <tr>\n",
       "      <th>blankVotesPercentage</th>\n",
       "      <td>0.034343</td>\n",
       "      <td>-0.302412</td>\n",
       "      <td>-0.002806</td>\n",
       "      <td>0.032013</td>\n",
       "      <td>1.000000</td>\n",
       "      <td>0.094047</td>\n",
       "      <td>-0.190778</td>\n",
       "      <td>-0.307544</td>\n",
       "      <td>-0.019692</td>\n",
       "      <td>-0.002076</td>\n",
       "      <td>-0.001486</td>\n",
       "      <td>-0.001305</td>\n",
       "      <td>-0.001195</td>\n",
       "      <td>0.001354</td>\n",
       "      <td>0.032550</td>\n",
       "    </tr>\n",
       "    <tr>\n",
       "      <th>nullVotesPercentage</th>\n",
       "      <td>-0.225021</td>\n",
       "      <td>-0.126432</td>\n",
       "      <td>0.029915</td>\n",
       "      <td>0.013209</td>\n",
       "      <td>0.094047</td>\n",
       "      <td>1.000000</td>\n",
       "      <td>-0.108855</td>\n",
       "      <td>0.497749</td>\n",
       "      <td>0.007069</td>\n",
       "      <td>0.005441</td>\n",
       "      <td>-0.066526</td>\n",
       "      <td>-0.032388</td>\n",
       "      <td>-0.029659</td>\n",
       "      <td>-0.081751</td>\n",
       "      <td>-0.123368</td>\n",
       "    </tr>\n",
       "    <tr>\n",
       "      <th>votersPercentage</th>\n",
       "      <td>0.029698</td>\n",
       "      <td>0.104222</td>\n",
       "      <td>0.112293</td>\n",
       "      <td>0.073855</td>\n",
       "      <td>-0.190778</td>\n",
       "      <td>-0.108855</td>\n",
       "      <td>1.000000</td>\n",
       "      <td>-0.278275</td>\n",
       "      <td>0.014657</td>\n",
       "      <td>-0.020966</td>\n",
       "      <td>0.076377</td>\n",
       "      <td>0.066665</td>\n",
       "      <td>0.061048</td>\n",
       "      <td>0.014714</td>\n",
       "      <td>0.011441</td>\n",
       "    </tr>\n",
       "    <tr>\n",
       "      <th>pre.nullVotesPercentage</th>\n",
       "      <td>-0.106054</td>\n",
       "      <td>-0.083214</td>\n",
       "      <td>-0.044174</td>\n",
       "      <td>-0.058017</td>\n",
       "      <td>-0.307544</td>\n",
       "      <td>0.497749</td>\n",
       "      <td>-0.278275</td>\n",
       "      <td>1.000000</td>\n",
       "      <td>0.009577</td>\n",
       "      <td>0.000158</td>\n",
       "      <td>-0.057086</td>\n",
       "      <td>-0.042245</td>\n",
       "      <td>-0.038686</td>\n",
       "      <td>-0.038556</td>\n",
       "      <td>-0.058113</td>\n",
       "    </tr>\n",
       "    <tr>\n",
       "      <th>Party</th>\n",
       "      <td>-0.001169</td>\n",
       "      <td>0.012263</td>\n",
       "      <td>-0.001882</td>\n",
       "      <td>-0.004013</td>\n",
       "      <td>-0.019692</td>\n",
       "      <td>0.007069</td>\n",
       "      <td>0.014657</td>\n",
       "      <td>0.009577</td>\n",
       "      <td>1.000000</td>\n",
       "      <td>0.232066</td>\n",
       "      <td>0.077322</td>\n",
       "      <td>0.104713</td>\n",
       "      <td>0.105097</td>\n",
       "      <td>-0.000321</td>\n",
       "      <td>-0.000768</td>\n",
       "    </tr>\n",
       "    <tr>\n",
       "      <th>validVotesPercentage</th>\n",
       "      <td>0.000526</td>\n",
       "      <td>-0.004874</td>\n",
       "      <td>-0.011052</td>\n",
       "      <td>-0.010624</td>\n",
       "      <td>-0.002076</td>\n",
       "      <td>0.005441</td>\n",
       "      <td>-0.020966</td>\n",
       "      <td>0.000158</td>\n",
       "      <td>0.232066</td>\n",
       "      <td>1.000000</td>\n",
       "      <td>0.327054</td>\n",
       "      <td>0.400857</td>\n",
       "      <td>0.382744</td>\n",
       "      <td>0.000147</td>\n",
       "      <td>0.000343</td>\n",
       "    </tr>\n",
       "    <tr>\n",
       "      <th>Votes</th>\n",
       "      <td>0.082417</td>\n",
       "      <td>0.078520</td>\n",
       "      <td>0.152348</td>\n",
       "      <td>0.343593</td>\n",
       "      <td>-0.001486</td>\n",
       "      <td>-0.066526</td>\n",
       "      <td>0.076377</td>\n",
       "      <td>-0.057086</td>\n",
       "      <td>0.077322</td>\n",
       "      <td>0.327054</td>\n",
       "      <td>1.000000</td>\n",
       "      <td>0.872658</td>\n",
       "      <td>0.882502</td>\n",
       "      <td>0.036539</td>\n",
       "      <td>0.037047</td>\n",
       "    </tr>\n",
       "    <tr>\n",
       "      <th>Hondt</th>\n",
       "      <td>-0.001100</td>\n",
       "      <td>0.084131</td>\n",
       "      <td>0.291310</td>\n",
       "      <td>0.359283</td>\n",
       "      <td>-0.001305</td>\n",
       "      <td>-0.032388</td>\n",
       "      <td>0.066665</td>\n",
       "      <td>-0.042245</td>\n",
       "      <td>0.104713</td>\n",
       "      <td>0.400857</td>\n",
       "      <td>0.872658</td>\n",
       "      <td>1.000000</td>\n",
       "      <td>0.994480</td>\n",
       "      <td>-0.000302</td>\n",
       "      <td>-0.000723</td>\n",
       "    </tr>\n",
       "    <tr>\n",
       "      <th>FinalMandates</th>\n",
       "      <td>-0.001007</td>\n",
       "      <td>0.077042</td>\n",
       "      <td>0.266764</td>\n",
       "      <td>0.329009</td>\n",
       "      <td>-0.001195</td>\n",
       "      <td>-0.029659</td>\n",
       "      <td>0.061048</td>\n",
       "      <td>-0.038686</td>\n",
       "      <td>0.105097</td>\n",
       "      <td>0.382744</td>\n",
       "      <td>0.882502</td>\n",
       "      <td>0.994480</td>\n",
       "      <td>1.000000</td>\n",
       "      <td>-0.000277</td>\n",
       "      <td>-0.000662</td>\n",
       "    </tr>\n",
       "    <tr>\n",
       "      <th>Dates</th>\n",
       "      <td>0.616137</td>\n",
       "      <td>-0.003485</td>\n",
       "      <td>-0.136227</td>\n",
       "      <td>-0.000534</td>\n",
       "      <td>0.001354</td>\n",
       "      <td>-0.081751</td>\n",
       "      <td>0.014714</td>\n",
       "      <td>-0.038556</td>\n",
       "      <td>-0.000321</td>\n",
       "      <td>0.000147</td>\n",
       "      <td>0.036539</td>\n",
       "      <td>-0.000302</td>\n",
       "      <td>-0.000277</td>\n",
       "      <td>1.000000</td>\n",
       "      <td>-0.619702</td>\n",
       "    </tr>\n",
       "    <tr>\n",
       "      <th>Time</th>\n",
       "      <td>0.236346</td>\n",
       "      <td>-0.008330</td>\n",
       "      <td>-0.092640</td>\n",
       "      <td>-0.001277</td>\n",
       "      <td>0.032550</td>\n",
       "      <td>-0.123368</td>\n",
       "      <td>0.011441</td>\n",
       "      <td>-0.058113</td>\n",
       "      <td>-0.000768</td>\n",
       "      <td>0.000343</td>\n",
       "      <td>0.037047</td>\n",
       "      <td>-0.000723</td>\n",
       "      <td>-0.000662</td>\n",
       "      <td>-0.619702</td>\n",
       "      <td>1.000000</td>\n",
       "    </tr>\n",
       "  </tbody>\n",
       "</table>\n",
       "</div>"
      ],
      "text/plain": [
       "                         TimeElapsed  territoryName  availableMandates  \\\n",
       "TimeElapsed                 1.000000      -0.012674          -0.261627   \n",
       "territoryName              -0.012674       1.000000           0.181563   \n",
       "availableMandates          -0.261627       0.181563           1.000000   \n",
       "numParishes                -0.001944       0.223300           0.745472   \n",
       "blankVotesPercentage        0.034343      -0.302412          -0.002806   \n",
       "nullVotesPercentage        -0.225021      -0.126432           0.029915   \n",
       "votersPercentage            0.029698       0.104222           0.112293   \n",
       "pre.nullVotesPercentage    -0.106054      -0.083214          -0.044174   \n",
       "Party                      -0.001169       0.012263          -0.001882   \n",
       "validVotesPercentage        0.000526      -0.004874          -0.011052   \n",
       "Votes                       0.082417       0.078520           0.152348   \n",
       "Hondt                      -0.001100       0.084131           0.291310   \n",
       "FinalMandates              -0.001007       0.077042           0.266764   \n",
       "Dates                       0.616137      -0.003485          -0.136227   \n",
       "Time                        0.236346      -0.008330          -0.092640   \n",
       "\n",
       "                         numParishes  blankVotesPercentage  \\\n",
       "TimeElapsed                -0.001944              0.034343   \n",
       "territoryName               0.223300             -0.302412   \n",
       "availableMandates           0.745472             -0.002806   \n",
       "numParishes                 1.000000              0.032013   \n",
       "blankVotesPercentage        0.032013              1.000000   \n",
       "nullVotesPercentage         0.013209              0.094047   \n",
       "votersPercentage            0.073855             -0.190778   \n",
       "pre.nullVotesPercentage    -0.058017             -0.307544   \n",
       "Party                      -0.004013             -0.019692   \n",
       "validVotesPercentage       -0.010624             -0.002076   \n",
       "Votes                       0.343593             -0.001486   \n",
       "Hondt                       0.359283             -0.001305   \n",
       "FinalMandates               0.329009             -0.001195   \n",
       "Dates                      -0.000534              0.001354   \n",
       "Time                       -0.001277              0.032550   \n",
       "\n",
       "                         nullVotesPercentage  votersPercentage  \\\n",
       "TimeElapsed                        -0.225021          0.029698   \n",
       "territoryName                      -0.126432          0.104222   \n",
       "availableMandates                   0.029915          0.112293   \n",
       "numParishes                         0.013209          0.073855   \n",
       "blankVotesPercentage                0.094047         -0.190778   \n",
       "nullVotesPercentage                 1.000000         -0.108855   \n",
       "votersPercentage                   -0.108855          1.000000   \n",
       "pre.nullVotesPercentage             0.497749         -0.278275   \n",
       "Party                               0.007069          0.014657   \n",
       "validVotesPercentage                0.005441         -0.020966   \n",
       "Votes                              -0.066526          0.076377   \n",
       "Hondt                              -0.032388          0.066665   \n",
       "FinalMandates                      -0.029659          0.061048   \n",
       "Dates                              -0.081751          0.014714   \n",
       "Time                               -0.123368          0.011441   \n",
       "\n",
       "                         pre.nullVotesPercentage     Party  \\\n",
       "TimeElapsed                            -0.106054 -0.001169   \n",
       "territoryName                          -0.083214  0.012263   \n",
       "availableMandates                      -0.044174 -0.001882   \n",
       "numParishes                            -0.058017 -0.004013   \n",
       "blankVotesPercentage                   -0.307544 -0.019692   \n",
       "nullVotesPercentage                     0.497749  0.007069   \n",
       "votersPercentage                       -0.278275  0.014657   \n",
       "pre.nullVotesPercentage                 1.000000  0.009577   \n",
       "Party                                   0.009577  1.000000   \n",
       "validVotesPercentage                    0.000158  0.232066   \n",
       "Votes                                  -0.057086  0.077322   \n",
       "Hondt                                  -0.042245  0.104713   \n",
       "FinalMandates                          -0.038686  0.105097   \n",
       "Dates                                  -0.038556 -0.000321   \n",
       "Time                                   -0.058113 -0.000768   \n",
       "\n",
       "                         validVotesPercentage     Votes     Hondt  \\\n",
       "TimeElapsed                          0.000526  0.082417 -0.001100   \n",
       "territoryName                       -0.004874  0.078520  0.084131   \n",
       "availableMandates                   -0.011052  0.152348  0.291310   \n",
       "numParishes                         -0.010624  0.343593  0.359283   \n",
       "blankVotesPercentage                -0.002076 -0.001486 -0.001305   \n",
       "nullVotesPercentage                  0.005441 -0.066526 -0.032388   \n",
       "votersPercentage                    -0.020966  0.076377  0.066665   \n",
       "pre.nullVotesPercentage              0.000158 -0.057086 -0.042245   \n",
       "Party                                0.232066  0.077322  0.104713   \n",
       "validVotesPercentage                 1.000000  0.327054  0.400857   \n",
       "Votes                                0.327054  1.000000  0.872658   \n",
       "Hondt                                0.400857  0.872658  1.000000   \n",
       "FinalMandates                        0.382744  0.882502  0.994480   \n",
       "Dates                                0.000147  0.036539 -0.000302   \n",
       "Time                                 0.000343  0.037047 -0.000723   \n",
       "\n",
       "                         FinalMandates     Dates      Time  \n",
       "TimeElapsed                  -0.001007  0.616137  0.236346  \n",
       "territoryName                 0.077042 -0.003485 -0.008330  \n",
       "availableMandates             0.266764 -0.136227 -0.092640  \n",
       "numParishes                   0.329009 -0.000534 -0.001277  \n",
       "blankVotesPercentage         -0.001195  0.001354  0.032550  \n",
       "nullVotesPercentage          -0.029659 -0.081751 -0.123368  \n",
       "votersPercentage              0.061048  0.014714  0.011441  \n",
       "pre.nullVotesPercentage      -0.038686 -0.038556 -0.058113  \n",
       "Party                         0.105097 -0.000321 -0.000768  \n",
       "validVotesPercentage          0.382744  0.000147  0.000343  \n",
       "Votes                         0.882502  0.036539  0.037047  \n",
       "Hondt                         0.994480 -0.000302 -0.000723  \n",
       "FinalMandates                 1.000000 -0.000277 -0.000662  \n",
       "Dates                        -0.000277  1.000000 -0.619702  \n",
       "Time                         -0.000662 -0.619702  1.000000  "
      ]
     },
     "execution_count": 9,
     "metadata": {},
     "output_type": "execute_result"
    }
   ],
   "source": [
    "df.corr()"
   ]
  },
  {
   "cell_type": "code",
   "execution_count": 38,
   "metadata": {},
   "outputs": [
    {
     "data": {
      "text/html": [
       "<div>\n",
       "<style scoped>\n",
       "    .dataframe tbody tr th:only-of-type {\n",
       "        vertical-align: middle;\n",
       "    }\n",
       "\n",
       "    .dataframe tbody tr th {\n",
       "        vertical-align: top;\n",
       "    }\n",
       "\n",
       "    .dataframe thead th {\n",
       "        text-align: right;\n",
       "    }\n",
       "</style>\n",
       "<table border=\"1\" class=\"dataframe\">\n",
       "  <thead>\n",
       "    <tr style=\"text-align: right;\">\n",
       "      <th></th>\n",
       "      <th></th>\n",
       "      <th>availableMandates</th>\n",
       "    </tr>\n",
       "    <tr>\n",
       "      <th>numParishes</th>\n",
       "      <th>territoryName</th>\n",
       "      <th></th>\n",
       "    </tr>\n",
       "  </thead>\n",
       "  <tbody>\n",
       "    <tr>\n",
       "      <th>3092</th>\n",
       "      <th>Território Nacional</th>\n",
       "      <td>112.611111</td>\n",
       "    </tr>\n",
       "    <tr>\n",
       "      <th>347</th>\n",
       "      <th>Braga</th>\n",
       "      <td>7.037037</td>\n",
       "    </tr>\n",
       "    <tr>\n",
       "      <th>277</th>\n",
       "      <th>Viseu</th>\n",
       "      <td>2.481481</td>\n",
       "    </tr>\n",
       "    <tr>\n",
       "      <th>243</th>\n",
       "      <th>Porto</th>\n",
       "      <td>20.796296</td>\n",
       "    </tr>\n",
       "    <tr>\n",
       "      <th>242</th>\n",
       "      <th>Guarda</th>\n",
       "      <td>1.000000</td>\n",
       "    </tr>\n",
       "    <tr>\n",
       "      <th>226</th>\n",
       "      <th>Bragança</th>\n",
       "      <td>1.388889</td>\n",
       "    </tr>\n",
       "    <tr>\n",
       "      <th>208</th>\n",
       "      <th>Viana do Castelo</th>\n",
       "      <td>1.851852</td>\n",
       "    </tr>\n",
       "    <tr>\n",
       "      <th>197</th>\n",
       "      <th>Vila Real</th>\n",
       "      <td>1.703704</td>\n",
       "    </tr>\n",
       "    <tr>\n",
       "      <th>156</th>\n",
       "      <th>Açores</th>\n",
       "      <td>1.680851</td>\n",
       "    </tr>\n",
       "    <tr>\n",
       "      <th>155</th>\n",
       "      <th>Coimbra</th>\n",
       "      <td>3.925926</td>\n",
       "    </tr>\n",
       "    <tr>\n",
       "      <th>147</th>\n",
       "      <th>Aveiro</th>\n",
       "      <td>8.055556</td>\n",
       "    </tr>\n",
       "    <tr>\n",
       "      <th>141</th>\n",
       "      <th>Santarém</th>\n",
       "      <td>3.333333</td>\n",
       "    </tr>\n",
       "    <tr>\n",
       "      <th>134</th>\n",
       "      <th>Lisboa</th>\n",
       "      <td>31.407407</td>\n",
       "    </tr>\n",
       "    <tr>\n",
       "      <th>120</th>\n",
       "      <th>Castelo Branco</th>\n",
       "      <td>1.444444</td>\n",
       "    </tr>\n",
       "    <tr>\n",
       "      <th>110</th>\n",
       "      <th>Leiria</th>\n",
       "      <td>4.740741</td>\n",
       "    </tr>\n",
       "    <tr>\n",
       "      <th>75</th>\n",
       "      <th>Beja</th>\n",
       "      <td>0.722222</td>\n",
       "    </tr>\n",
       "    <tr>\n",
       "      <th rowspan=\"2\" valign=\"top\">69</th>\n",
       "      <th>Évora</th>\n",
       "      <td>1.222222</td>\n",
       "    </tr>\n",
       "    <tr>\n",
       "      <th>Portalegre</th>\n",
       "      <td>0.703704</td>\n",
       "    </tr>\n",
       "    <tr>\n",
       "      <th>67</th>\n",
       "      <th>Faro</th>\n",
       "      <td>3.685185</td>\n",
       "    </tr>\n",
       "    <tr>\n",
       "      <th>55</th>\n",
       "      <th>Setúbal</th>\n",
       "      <td>12.944444</td>\n",
       "    </tr>\n",
       "    <tr>\n",
       "      <th>54</th>\n",
       "      <th>Madeira</th>\n",
       "      <td>2.185185</td>\n",
       "    </tr>\n",
       "  </tbody>\n",
       "</table>\n",
       "</div>"
      ],
      "text/plain": [
       "                                 availableMandates\n",
       "numParishes territoryName                         \n",
       "3092        Território Nacional         112.611111\n",
       "347         Braga                         7.037037\n",
       "277         Viseu                         2.481481\n",
       "243         Porto                        20.796296\n",
       "242         Guarda                        1.000000\n",
       "226         Bragança                      1.388889\n",
       "208         Viana do Castelo              1.851852\n",
       "197         Vila Real                     1.703704\n",
       "156         Açores                        1.680851\n",
       "155         Coimbra                       3.925926\n",
       "147         Aveiro                        8.055556\n",
       "141         Santarém                      3.333333\n",
       "134         Lisboa                       31.407407\n",
       "120         Castelo Branco                1.444444\n",
       "110         Leiria                        4.740741\n",
       "75          Beja                          0.722222\n",
       "69          Évora                         1.222222\n",
       "            Portalegre                    0.703704\n",
       "67          Faro                          3.685185\n",
       "55          Setúbal                      12.944444\n",
       "54          Madeira                       2.185185"
      ]
     },
     "execution_count": 38,
     "metadata": {},
     "output_type": "execute_result"
    }
   ],
   "source": [
    "df [['territoryName','availableMandates', 'numParishes']].groupby(['numParishes','territoryName']).mean().sort_values('numParishes',ascending=False)"
   ]
  },
  {
   "cell_type": "code",
   "execution_count": null,
   "metadata": {},
   "outputs": [],
   "source": [
    "df [['Party','availableMandates', 'numParishes']].groupby(['numParishes','territoryName']).mean().sort_values('numParishes',ascending=False)"
   ]
  },
  {
   "cell_type": "code",
   "execution_count": 55,
   "metadata": {},
   "outputs": [
    {
     "data": {
      "text/plain": [
       "(array([ 0,  1,  2,  3,  4,  5,  6,  7,  8,  9, 10, 11, 12, 13, 14, 15, 16,\n",
       "        17, 18, 19, 20]),\n",
       " <a list of 21 Text xticklabel objects>)"
      ]
     },
     "execution_count": 55,
     "metadata": {},
     "output_type": "execute_result"
    },
    {
     "data": {
      "image/png": "[encoded data removed]",
      "text/plain": [
       "<Figure size 864x432 with 1 Axes>"
      ]
     },
     "metadata": {
      "needs_background": "light"
     },
     "output_type": "display_data"
    }
   ],
   "source": [
    "plt.figure(figsize=(12,6))\n",
    "sns.barplot(x = 'Party', y = 'blankVotesPercentage', data =df)\n",
    "plt.xticks(rotation = 90)"
   ]
  },
  {
   "cell_type": "code",
   "execution_count": 53,
   "metadata": {},
   "outputs": [
    {
     "data": {
      "text/plain": [
       "(array([ 0,  1,  2,  3,  4,  5,  6,  7,  8,  9, 10, 11, 12, 13, 14, 15, 16,\n",
       "        17, 18, 19, 20]),\n",
       " <a list of 21 Text xticklabel objects>)"
      ]
     },
     "execution_count": 53,
     "metadata": {},
     "output_type": "execute_result"
    },
    {
     "data": {
      "image/png": "[encoded data removed]",
      "text/plain": [
       "<Figure size 864x432 with 1 Axes>"
      ]
     },
     "metadata": {
      "needs_background": "light"
     },
     "output_type": "display_data"
    }
   ],
   "source": [
    "plt.figure(figsize=(12,6))\n",
    "sns.barplot(x = 'Party', y = 'nullVotesPercentage', data =df)\n",
    "plt.xticks(rotation = 90)"
   ]
  },
  {
   "cell_type": "code",
   "execution_count": 51,
   "metadata": {},
   "outputs": [
    {
     "data": {
      "text/plain": [
       "(array([ 0,  1,  2,  3,  4,  5,  6,  7,  8,  9, 10, 11, 12, 13, 14, 15, 16,\n",
       "        17, 18, 19, 20]),\n",
       " <a list of 21 Text xticklabel objects>)"
      ]
     },
     "execution_count": 51,
     "metadata": {},
     "output_type": "execute_result"
    },
    {
     "data": {
      "image/png": "[encoded data removed]",
      "text/plain": [
       "<Figure size 864x432 with 1 Axes>"
      ]
     },
     "metadata": {
      "needs_background": "light"
     },
     "output_type": "display_data"
    }
   ],
   "source": [
    "plt.figure(figsize=(12,6))\n",
    "sns.barplot(x = 'Party', y = 'validVotesPercentage', data =df)\n",
    "plt.xticks(rotation = 90)"
   ]
  },
  {
   "cell_type": "code",
   "execution_count": 49,
   "metadata": {},
   "outputs": [
    {
     "data": {
      "text/plain": [
       "(array([ 0,  1,  2,  3,  4,  5,  6,  7,  8,  9, 10, 11, 12, 13, 14, 15, 16,\n",
       "        17, 18, 19, 20]),\n",
       " <a list of 21 Text xticklabel objects>)"
      ]
     },
     "execution_count": 49,
     "metadata": {},
     "output_type": "execute_result"
    },
    {
     "data": {
      "image/png": "[encoded data removed]",
      "text/plain": [
       "<Figure size 864x432 with 1 Axes>"
      ]
     },
     "metadata": {
      "needs_background": "light"
     },
     "output_type": "display_data"
    }
   ],
   "source": [
    "plt.figure(figsize=(12,6))\n",
    "sns.barplot(x = 'Party', y = 'FinalMandates', data =df)\n",
    "plt.xticks(rotation = 90)"
   ]
  },
  {
   "cell_type": "code",
   "execution_count": 47,
   "metadata": {},
   "outputs": [
    {
     "data": {
      "text/plain": [
       "(array([ 0,  1,  2,  3,  4,  5,  6,  7,  8,  9, 10, 11, 12, 13, 14, 15, 16,\n",
       "        17, 18, 19, 20]),\n",
       " <a list of 21 Text xticklabel objects>)"
      ]
     },
     "execution_count": 47,
     "metadata": {},
     "output_type": "execute_result"
    },
    {
     "data": {
      "image/png": "[encoded data removed]",
      "text/plain": [
       "<Figure size 864x432 with 1 Axes>"
      ]
     },
     "metadata": {
      "needs_background": "light"
     },
     "output_type": "display_data"
    }
   ],
   "source": [
    "plt.figure(figsize=(12,6))\n",
    "sns.barplot(x = 'territoryName', y = 'FinalMandates', data =df)\n",
    "plt.xticks(rotation = 90)"
   ]
  },
  {
   "cell_type": "code",
   "execution_count": null,
   "metadata": {},
   "outputs": [],
   "source": []
  },
  {
   "cell_type": "code",
   "execution_count": null,
   "metadata": {},
   "outputs": [],
   "source": []
  },
  {
   "cell_type": "code",
   "execution_count": null,
   "metadata": {},
   "outputs": [],
   "source": []
  },
  {
   "cell_type": "code",
   "execution_count": 62,
   "metadata": {},
   "outputs": [
    {
     "data": {
      "text/plain": [
       "TimeElapsed                -0.005496\n",
       "territoryName              -0.025884\n",
       "availableMandates           5.131572\n",
       "numParishes                 3.920433\n",
       "blankVotesPercentage        0.069627\n",
       "nullVotesPercentage         0.855419\n",
       "votersPercentage           -1.158029\n",
       "pre.nullVotesPercentage     1.231109\n",
       "Party                      -0.083536\n",
       "validVotesPercentage        2.543122\n",
       "Votes                      13.940573\n",
       "Hondt                      11.489315\n",
       "FinalMandates              12.402865\n",
       "Dates                       1.971970\n",
       "Time                       -0.010727\n",
       "dtype: float64"
      ]
     },
     "execution_count": 62,
     "metadata": {},
     "output_type": "execute_result"
    }
   ],
   "source": [
    "df.skew()"
   ]
  },
  {
   "cell_type": "code",
   "execution_count": 103,
   "metadata": {},
   "outputs": [
    {
     "data": {
      "text/plain": [
       "<matplotlib.axes._subplots.AxesSubplot at 0x1ced3cb4e48>"
      ]
     },
     "execution_count": 103,
     "metadata": {},
     "output_type": "execute_result"
    },
    {
     "data": {
      "image/png": "[encoded data removed]",
      "text/plain": [
       "<Figure size 432x288 with 1 Axes>"
      ]
     },
     "metadata": {
      "needs_background": "light"
     },
     "output_type": "display_data"
    }
   ],
   "source": [
    "sns.distplot(df['Votes'])"
   ]
  },
  {
   "cell_type": "code",
   "execution_count": 98,
   "metadata": {},
   "outputs": [],
   "source": [
    "collist=df.columns.values\n",
    "ncol=15\n",
    "nrows=15"
   ]
  },
  {
   "cell_type": "code",
   "execution_count": 101,
   "metadata": {},
   "outputs": [
    {
     "ename": "RuntimeError",
     "evalue": "Selected KDE bandwidth is 0. Cannot estiamte density.",
     "output_type": "error",
     "traceback": [
      "\u001b[1;31m---------------------------------------------------------------------------\u001b[0m",
      "\u001b[1;31mValueError\u001b[0m                                Traceback (most recent call last)",
      "\u001b[1;32m~\\anaconda3\\lib\\site-packages\\statsmodels\\nonparametric\\kde.py\u001b[0m in \u001b[0;36mkdensityfft\u001b[1;34m(X, kernel, bw, weights, gridsize, adjust, clip, cut, retgrid)\u001b[0m\n\u001b[0;32m    450\u001b[0m     \u001b[1;32mtry\u001b[0m\u001b[1;33m:\u001b[0m\u001b[1;33m\u001b[0m\u001b[1;33m\u001b[0m\u001b[0m\n\u001b[1;32m--> 451\u001b[1;33m         \u001b[0mbw\u001b[0m \u001b[1;33m=\u001b[0m \u001b[0mfloat\u001b[0m\u001b[1;33m(\u001b[0m\u001b[0mbw\u001b[0m\u001b[1;33m)\u001b[0m\u001b[1;33m\u001b[0m\u001b[1;33m\u001b[0m\u001b[0m\n\u001b[0m\u001b[0;32m    452\u001b[0m     \u001b[1;32mexcept\u001b[0m\u001b[1;33m:\u001b[0m\u001b[1;33m\u001b[0m\u001b[1;33m\u001b[0m\u001b[0m\n",
      "\u001b[1;31mValueError\u001b[0m: could not convert string to float: 'scott'",
      "\nDuring handling of the above exception, another exception occurred:\n",
      "\u001b[1;31mRuntimeError\u001b[0m                              Traceback (most recent call last)",
      "\u001b[1;32m<ipython-input-101-01ed44ce5d71>\u001b[0m in \u001b[0;36m<module>\u001b[1;34m\u001b[0m\n\u001b[0;32m      3\u001b[0m \u001b[1;32mfor\u001b[0m \u001b[0mi\u001b[0m \u001b[1;32min\u001b[0m \u001b[0mrange\u001b[0m \u001b[1;33m(\u001b[0m\u001b[1;36m0\u001b[0m\u001b[1;33m,\u001b[0m\u001b[0mlen\u001b[0m\u001b[1;33m(\u001b[0m\u001b[0mcollist\u001b[0m\u001b[1;33m)\u001b[0m\u001b[1;33m)\u001b[0m\u001b[1;33m:\u001b[0m\u001b[1;33m\u001b[0m\u001b[1;33m\u001b[0m\u001b[0m\n\u001b[0;32m      4\u001b[0m     \u001b[0mplt\u001b[0m\u001b[1;33m.\u001b[0m\u001b[0msubplot\u001b[0m\u001b[1;33m(\u001b[0m\u001b[0mnrows\u001b[0m\u001b[1;33m,\u001b[0m\u001b[0mncol\u001b[0m\u001b[1;33m,\u001b[0m\u001b[0mi\u001b[0m\u001b[1;33m+\u001b[0m\u001b[1;36m1\u001b[0m\u001b[1;33m)\u001b[0m\u001b[1;33m\u001b[0m\u001b[1;33m\u001b[0m\u001b[0m\n\u001b[1;32m----> 5\u001b[1;33m     \u001b[0msns\u001b[0m\u001b[1;33m.\u001b[0m\u001b[0mdistplot\u001b[0m\u001b[1;33m(\u001b[0m\u001b[0mdf\u001b[0m\u001b[1;33m[\u001b[0m\u001b[0mcollist\u001b[0m\u001b[1;33m[\u001b[0m\u001b[0mi\u001b[0m\u001b[1;33m]\u001b[0m\u001b[1;33m]\u001b[0m\u001b[1;33m)\u001b[0m\u001b[1;33m\u001b[0m\u001b[1;33m\u001b[0m\u001b[0m\n\u001b[0m",
      "\u001b[1;32m~\\anaconda3\\lib\\site-packages\\seaborn\\distributions.py\u001b[0m in \u001b[0;36mdistplot\u001b[1;34m(a, bins, hist, kde, rug, fit, hist_kws, kde_kws, rug_kws, fit_kws, color, vertical, norm_hist, axlabel, label, ax)\u001b[0m\n\u001b[0;32m    231\u001b[0m     \u001b[1;32mif\u001b[0m \u001b[0mkde\u001b[0m\u001b[1;33m:\u001b[0m\u001b[1;33m\u001b[0m\u001b[1;33m\u001b[0m\u001b[0m\n\u001b[0;32m    232\u001b[0m         \u001b[0mkde_color\u001b[0m \u001b[1;33m=\u001b[0m \u001b[0mkde_kws\u001b[0m\u001b[1;33m.\u001b[0m\u001b[0mpop\u001b[0m\u001b[1;33m(\u001b[0m\u001b[1;34m\"color\"\u001b[0m\u001b[1;33m,\u001b[0m \u001b[0mcolor\u001b[0m\u001b[1;33m)\u001b[0m\u001b[1;33m\u001b[0m\u001b[1;33m\u001b[0m\u001b[0m\n\u001b[1;32m--> 233\u001b[1;33m         \u001b[0mkdeplot\u001b[0m\u001b[1;33m(\u001b[0m\u001b[0ma\u001b[0m\u001b[1;33m,\u001b[0m \u001b[0mvertical\u001b[0m\u001b[1;33m=\u001b[0m\u001b[0mvertical\u001b[0m\u001b[1;33m,\u001b[0m \u001b[0max\u001b[0m\u001b[1;33m=\u001b[0m\u001b[0max\u001b[0m\u001b[1;33m,\u001b[0m \u001b[0mcolor\u001b[0m\u001b[1;33m=\u001b[0m\u001b[0mkde_color\u001b[0m\u001b[1;33m,\u001b[0m \u001b[1;33m**\u001b[0m\u001b[0mkde_kws\u001b[0m\u001b[1;33m)\u001b[0m\u001b[1;33m\u001b[0m\u001b[1;33m\u001b[0m\u001b[0m\n\u001b[0m\u001b[0;32m    234\u001b[0m         \u001b[1;32mif\u001b[0m \u001b[0mkde_color\u001b[0m \u001b[1;33m!=\u001b[0m \u001b[0mcolor\u001b[0m\u001b[1;33m:\u001b[0m\u001b[1;33m\u001b[0m\u001b[1;33m\u001b[0m\u001b[0m\n\u001b[0;32m    235\u001b[0m             \u001b[0mkde_kws\u001b[0m\u001b[1;33m[\u001b[0m\u001b[1;34m\"color\"\u001b[0m\u001b[1;33m]\u001b[0m \u001b[1;33m=\u001b[0m \u001b[0mkde_color\u001b[0m\u001b[1;33m\u001b[0m\u001b[1;33m\u001b[0m\u001b[0m\n",
      "\u001b[1;32m~\\anaconda3\\lib\\site-packages\\seaborn\\distributions.py\u001b[0m in \u001b[0;36mkdeplot\u001b[1;34m(data, data2, shade, vertical, kernel, bw, gridsize, cut, clip, legend, cumulative, shade_lowest, cbar, cbar_ax, cbar_kws, ax, **kwargs)\u001b[0m\n\u001b[0;32m    703\u001b[0m         ax = _univariate_kdeplot(data, shade, vertical, kernel, bw,\n\u001b[0;32m    704\u001b[0m                                  \u001b[0mgridsize\u001b[0m\u001b[1;33m,\u001b[0m \u001b[0mcut\u001b[0m\u001b[1;33m,\u001b[0m \u001b[0mclip\u001b[0m\u001b[1;33m,\u001b[0m \u001b[0mlegend\u001b[0m\u001b[1;33m,\u001b[0m \u001b[0max\u001b[0m\u001b[1;33m,\u001b[0m\u001b[1;33m\u001b[0m\u001b[1;33m\u001b[0m\u001b[0m\n\u001b[1;32m--> 705\u001b[1;33m                                  cumulative=cumulative, **kwargs)\n\u001b[0m\u001b[0;32m    706\u001b[0m \u001b[1;33m\u001b[0m\u001b[0m\n\u001b[0;32m    707\u001b[0m     \u001b[1;32mreturn\u001b[0m \u001b[0max\u001b[0m\u001b[1;33m\u001b[0m\u001b[1;33m\u001b[0m\u001b[0m\n",
      "\u001b[1;32m~\\anaconda3\\lib\\site-packages\\seaborn\\distributions.py\u001b[0m in \u001b[0;36m_univariate_kdeplot\u001b[1;34m(data, shade, vertical, kernel, bw, gridsize, cut, clip, legend, ax, cumulative, **kwargs)\u001b[0m\n\u001b[0;32m    293\u001b[0m         x, y = _statsmodels_univariate_kde(data, kernel, bw,\n\u001b[0;32m    294\u001b[0m                                            \u001b[0mgridsize\u001b[0m\u001b[1;33m,\u001b[0m \u001b[0mcut\u001b[0m\u001b[1;33m,\u001b[0m \u001b[0mclip\u001b[0m\u001b[1;33m,\u001b[0m\u001b[1;33m\u001b[0m\u001b[1;33m\u001b[0m\u001b[0m\n\u001b[1;32m--> 295\u001b[1;33m                                            cumulative=cumulative)\n\u001b[0m\u001b[0;32m    296\u001b[0m     \u001b[1;32melse\u001b[0m\u001b[1;33m:\u001b[0m\u001b[1;33m\u001b[0m\u001b[1;33m\u001b[0m\u001b[0m\n\u001b[0;32m    297\u001b[0m         \u001b[1;31m# Fall back to scipy if missing statsmodels\u001b[0m\u001b[1;33m\u001b[0m\u001b[1;33m\u001b[0m\u001b[1;33m\u001b[0m\u001b[0m\n",
      "\u001b[1;32m~\\anaconda3\\lib\\site-packages\\seaborn\\distributions.py\u001b[0m in \u001b[0;36m_statsmodels_univariate_kde\u001b[1;34m(data, kernel, bw, gridsize, cut, clip, cumulative)\u001b[0m\n\u001b[0;32m    365\u001b[0m     \u001b[0mfft\u001b[0m \u001b[1;33m=\u001b[0m \u001b[0mkernel\u001b[0m \u001b[1;33m==\u001b[0m \u001b[1;34m\"gau\"\u001b[0m\u001b[1;33m\u001b[0m\u001b[1;33m\u001b[0m\u001b[0m\n\u001b[0;32m    366\u001b[0m     \u001b[0mkde\u001b[0m \u001b[1;33m=\u001b[0m \u001b[0msmnp\u001b[0m\u001b[1;33m.\u001b[0m\u001b[0mKDEUnivariate\u001b[0m\u001b[1;33m(\u001b[0m\u001b[0mdata\u001b[0m\u001b[1;33m)\u001b[0m\u001b[1;33m\u001b[0m\u001b[1;33m\u001b[0m\u001b[0m\n\u001b[1;32m--> 367\u001b[1;33m     \u001b[0mkde\u001b[0m\u001b[1;33m.\u001b[0m\u001b[0mfit\u001b[0m\u001b[1;33m(\u001b[0m\u001b[0mkernel\u001b[0m\u001b[1;33m,\u001b[0m \u001b[0mbw\u001b[0m\u001b[1;33m,\u001b[0m \u001b[0mfft\u001b[0m\u001b[1;33m,\u001b[0m \u001b[0mgridsize\u001b[0m\u001b[1;33m=\u001b[0m\u001b[0mgridsize\u001b[0m\u001b[1;33m,\u001b[0m \u001b[0mcut\u001b[0m\u001b[1;33m=\u001b[0m\u001b[0mcut\u001b[0m\u001b[1;33m,\u001b[0m \u001b[0mclip\u001b[0m\u001b[1;33m=\u001b[0m\u001b[0mclip\u001b[0m\u001b[1;33m)\u001b[0m\u001b[1;33m\u001b[0m\u001b[1;33m\u001b[0m\u001b[0m\n\u001b[0m\u001b[0;32m    368\u001b[0m     \u001b[1;32mif\u001b[0m \u001b[0mcumulative\u001b[0m\u001b[1;33m:\u001b[0m\u001b[1;33m\u001b[0m\u001b[1;33m\u001b[0m\u001b[0m\n\u001b[0;32m    369\u001b[0m         \u001b[0mgrid\u001b[0m\u001b[1;33m,\u001b[0m \u001b[0my\u001b[0m \u001b[1;33m=\u001b[0m \u001b[0mkde\u001b[0m\u001b[1;33m.\u001b[0m\u001b[0msupport\u001b[0m\u001b[1;33m,\u001b[0m \u001b[0mkde\u001b[0m\u001b[1;33m.\u001b[0m\u001b[0mcdf\u001b[0m\u001b[1;33m\u001b[0m\u001b[1;33m\u001b[0m\u001b[0m\n",
      "\u001b[1;32m~\\anaconda3\\lib\\site-packages\\statsmodels\\nonparametric\\kde.py\u001b[0m in \u001b[0;36mfit\u001b[1;34m(self, kernel, bw, fft, weights, gridsize, adjust, cut, clip)\u001b[0m\n\u001b[0;32m    138\u001b[0m             density, grid, bw = kdensityfft(endog, kernel=kernel, bw=bw,\n\u001b[0;32m    139\u001b[0m                     \u001b[0madjust\u001b[0m\u001b[1;33m=\u001b[0m\u001b[0madjust\u001b[0m\u001b[1;33m,\u001b[0m \u001b[0mweights\u001b[0m\u001b[1;33m=\u001b[0m\u001b[0mweights\u001b[0m\u001b[1;33m,\u001b[0m \u001b[0mgridsize\u001b[0m\u001b[1;33m=\u001b[0m\u001b[0mgridsize\u001b[0m\u001b[1;33m,\u001b[0m\u001b[1;33m\u001b[0m\u001b[1;33m\u001b[0m\u001b[0m\n\u001b[1;32m--> 140\u001b[1;33m                     clip=clip, cut=cut)\n\u001b[0m\u001b[0;32m    141\u001b[0m         \u001b[1;32melse\u001b[0m\u001b[1;33m:\u001b[0m\u001b[1;33m\u001b[0m\u001b[1;33m\u001b[0m\u001b[0m\n\u001b[0;32m    142\u001b[0m             density, grid, bw = kdensity(endog, kernel=kernel, bw=bw,\n",
      "\u001b[1;32m~\\anaconda3\\lib\\site-packages\\statsmodels\\nonparametric\\kde.py\u001b[0m in \u001b[0;36mkdensityfft\u001b[1;34m(X, kernel, bw, weights, gridsize, adjust, clip, cut, retgrid)\u001b[0m\n\u001b[0;32m    451\u001b[0m         \u001b[0mbw\u001b[0m \u001b[1;33m=\u001b[0m \u001b[0mfloat\u001b[0m\u001b[1;33m(\u001b[0m\u001b[0mbw\u001b[0m\u001b[1;33m)\u001b[0m\u001b[1;33m\u001b[0m\u001b[1;33m\u001b[0m\u001b[0m\n\u001b[0;32m    452\u001b[0m     \u001b[1;32mexcept\u001b[0m\u001b[1;33m:\u001b[0m\u001b[1;33m\u001b[0m\u001b[1;33m\u001b[0m\u001b[0m\n\u001b[1;32m--> 453\u001b[1;33m         \u001b[0mbw\u001b[0m \u001b[1;33m=\u001b[0m \u001b[0mbandwidths\u001b[0m\u001b[1;33m.\u001b[0m\u001b[0mselect_bandwidth\u001b[0m\u001b[1;33m(\u001b[0m\u001b[0mX\u001b[0m\u001b[1;33m,\u001b[0m \u001b[0mbw\u001b[0m\u001b[1;33m,\u001b[0m \u001b[0mkern\u001b[0m\u001b[1;33m)\u001b[0m \u001b[1;31m# will cross-val fit this pattern?\u001b[0m\u001b[1;33m\u001b[0m\u001b[1;33m\u001b[0m\u001b[0m\n\u001b[0m\u001b[0;32m    454\u001b[0m     \u001b[0mbw\u001b[0m \u001b[1;33m*=\u001b[0m \u001b[0madjust\u001b[0m\u001b[1;33m\u001b[0m\u001b[1;33m\u001b[0m\u001b[0m\n\u001b[0;32m    455\u001b[0m \u001b[1;33m\u001b[0m\u001b[0m\n",
      "\u001b[1;32m~\\anaconda3\\lib\\site-packages\\statsmodels\\nonparametric\\bandwidths.py\u001b[0m in \u001b[0;36mselect_bandwidth\u001b[1;34m(x, bw, kernel)\u001b[0m\n\u001b[0;32m    172\u001b[0m         \u001b[1;31m# eventually this can fall back on another selection criterion.\u001b[0m\u001b[1;33m\u001b[0m\u001b[1;33m\u001b[0m\u001b[1;33m\u001b[0m\u001b[0m\n\u001b[0;32m    173\u001b[0m         \u001b[0merr\u001b[0m \u001b[1;33m=\u001b[0m \u001b[1;34m\"Selected KDE bandwidth is 0. Cannot estiamte density.\"\u001b[0m\u001b[1;33m\u001b[0m\u001b[1;33m\u001b[0m\u001b[0m\n\u001b[1;32m--> 174\u001b[1;33m         \u001b[1;32mraise\u001b[0m \u001b[0mRuntimeError\u001b[0m\u001b[1;33m(\u001b[0m\u001b[0merr\u001b[0m\u001b[1;33m)\u001b[0m\u001b[1;33m\u001b[0m\u001b[1;33m\u001b[0m\u001b[0m\n\u001b[0m\u001b[0;32m    175\u001b[0m     \u001b[1;32melse\u001b[0m\u001b[1;33m:\u001b[0m\u001b[1;33m\u001b[0m\u001b[1;33m\u001b[0m\u001b[0m\n\u001b[0;32m    176\u001b[0m         \u001b[1;32mreturn\u001b[0m \u001b[0mbandwidth\u001b[0m\u001b[1;33m\u001b[0m\u001b[1;33m\u001b[0m\u001b[0m\n",
      "\u001b[1;31mRuntimeError\u001b[0m: Selected KDE bandwidth is 0. Cannot estiamte density."
     ]
    },
    {
     "data": {
      "image/png": "[encoded data removed]",
      "text/plain": [
       "<Figure size 1152x1152 with 12 Axes>"
      ]
     },
     "metadata": {
      "needs_background": "light"
     },
     "output_type": "display_data"
    }
   ],
   "source": [
    "#plt.figure(figsize=(5*totalcol,5*totalcol))\n",
    "plt.figure(figsize=(16,16))\n",
    "for i in range (0,len(collist)):\n",
    "    plt.subplot(nrows,ncol,i+1)\n",
    "    sns.distplot(df[collist[i]])"
   ]
  },
  {
   "cell_type": "code",
   "execution_count": null,
   "metadata": {},
   "outputs": [],
   "source": []
  },
  {
   "cell_type": "code",
   "execution_count": 112,
   "metadata": {},
   "outputs": [],
   "source": [
    "#Lets treat the skewness\n",
    "import numpy as np\n",
    "for index in df.skew().index:\n",
    "    if df.skew().loc[index]>0.5:\n",
    "        df[index]=np.cbrt(df[index])\n",
    "    if df.skew().loc[index]<-0.5:\n",
    "        df[index]=np.cbrt(df[index])"
   ]
  },
  {
   "cell_type": "code",
   "execution_count": 113,
   "metadata": {},
   "outputs": [
    {
     "data": {
      "text/plain": [
       "TimeElapsed               -0.005496\n",
       "territoryName             -0.025884\n",
       "availableMandates         -0.093842\n",
       "numParishes                1.859384\n",
       "blankVotesPercentage       0.069627\n",
       "nullVotesPercentage        0.449486\n",
       "votersPercentage          -1.534089\n",
       "pre.nullVotesPercentage    0.578729\n",
       "Party                     -0.083536\n",
       "validVotesPercentage       0.813212\n",
       "Votes                      0.572799\n",
       "Hondt                      1.676077\n",
       "FinalMandates              1.704530\n",
       "Dates                      1.971970\n",
       "Time                      -0.010727\n",
       "dtype: float64"
      ]
     },
     "execution_count": 113,
     "metadata": {},
     "output_type": "execute_result"
    }
   ],
   "source": [
    "df.skew()"
   ]
  },
  {
   "cell_type": "code",
   "execution_count": 108,
   "metadata": {},
   "outputs": [],
   "source": [
    " lists=['TimeElapsed','availableMandates','numParishes','validVotesPercentage','Votes','Hondt','blankVotesPercentage','nullVotesPercentage','votersPercentage','pre.nullVotesPercentage']\n",
    "     "
   ]
  },
  {
   "cell_type": "code",
   "execution_count": 109,
   "metadata": {},
   "outputs": [
    {
     "data": {
      "image/png": "[encoded data removed]",
      "text/plain": [
       "<Figure size 432x432 with 1 Axes>"
      ]
     },
     "metadata": {
      "needs_background": "light"
     },
     "output_type": "display_data"
    },
    {
     "data": {
      "image/png": "[encoded data removed]",
      "text/plain": [
       "<Figure size 432x432 with 1 Axes>"
      ]
     },
     "metadata": {
      "needs_background": "light"
     },
     "output_type": "display_data"
    },
    {
     "data": {
      "image/png": "[encoded data removed]",
      "text/plain": [
       "<Figure size 432x432 with 1 Axes>"
      ]
     },
     "metadata": {
      "needs_background": "light"
     },
     "output_type": "display_data"
    },
    {
     "data": {
      "image/png": "[encoded data removed]",
      "text/plain": [
       "<Figure size 432x432 with 1 Axes>"
      ]
     },
     "metadata": {
      "needs_background": "light"
     },
     "output_type": "display_data"
    },
    {
     "data": {
      "image/png": "[encoded data removed]",
      "text/plain": [
       "<Figure size 432x432 with 1 Axes>"
      ]
     },
     "metadata": {
      "needs_background": "light"
     },
     "output_type": "display_data"
    },
    {
     "data": {
      "image/png": "[encoded data removed]",
      "text/plain": [
       "<Figure size 432x432 with 1 Axes>"
      ]
     },
     "metadata": {
      "needs_background": "light"
     },
     "output_type": "display_data"
    },
    {
     "data": {
      "image/png": "[encoded data removed]",
      "text/plain": [
       "<Figure size 432x432 with 1 Axes>"
      ]
     },
     "metadata": {
      "needs_background": "light"
     },
     "output_type": "display_data"
    },
    {
     "data": {
      "image/png": "[encoded data removed]",
      "text/plain": [
       "<Figure size 432x432 with 1 Axes>"
      ]
     },
     "metadata": {
      "needs_background": "light"
     },
     "output_type": "display_data"
    },
    {
     "data": {
      "image/png": "[encoded data removed]",
      "text/plain": [
       "<Figure size 432x432 with 1 Axes>"
      ]
     },
     "metadata": {
      "needs_background": "light"
     },
     "output_type": "display_data"
    },
    {
     "data": {
      "image/png": "[encoded data removed]",
      "text/plain": [
       "<Figure size 432x432 with 1 Axes>"
      ]
     },
     "metadata": {
      "needs_background": "light"
     },
     "output_type": "display_data"
    }
   ],
   "source": [
    "   for i in lists:\n",
    "        plt.figure(figsize = (6,6))\n",
    "        df.boxplot(column=[i])\n",
    "        plt.xlabel(i)\n"
   ]
  },
  {
   "cell_type": "code",
   "execution_count": 96,
   "metadata": {},
   "outputs": [
    {
     "name": "stdout",
     "output_type": "stream",
     "text": [
      "(array([    0,     0,     0, ..., 21528, 21528, 21567], dtype=int64), array([ 2,  3, 10, ..., 11, 12, 10], dtype=int64))\n"
     ]
    }
   ],
   "source": [
    "from scipy.stats import zscore\n",
    "z=np.abs(zscore(df))\n",
    "threshold=3\n",
    "print(np.where(z>3))\n",
    "df_new=df[(z<3).all(axis=1)]"
   ]
  },
  {
   "cell_type": "code",
   "execution_count": 97,
   "metadata": {},
   "outputs": [
    {
     "data": {
      "text/plain": [
       "((19097, 15), (21643, 15))"
      ]
     },
     "execution_count": 97,
     "metadata": {},
     "output_type": "execute_result"
    }
   ],
   "source": [
    "df_new.shape,df.shape"
   ]
  },
  {
   "cell_type": "code",
   "execution_count": 85,
   "metadata": {},
   "outputs": [
    {
     "data": {
      "text/plain": [
       "(21643, 15)"
      ]
     },
     "execution_count": 85,
     "metadata": {},
     "output_type": "execute_result"
    }
   ],
   "source": [
    "df.shape"
   ]
  },
  {
   "cell_type": "markdown",
   "metadata": {},
   "source": [
    "# ML"
   ]
  },
  {
   "cell_type": "code",
   "execution_count": 86,
   "metadata": {},
   "outputs": [],
   "source": [
    "x=df_new.drop(['FinalMandates'],axis=1) \n",
    "y=df_new['FinalMandates']  "
   ]
  },
  {
   "cell_type": "code",
   "execution_count": 87,
   "metadata": {},
   "outputs": [
    {
     "data": {
      "text/plain": [
       "array([[-1.73740904, -1.74147936,  1.30835607, ...,  3.54702836,\n",
       "        -0.42029535, -1.2009872 ],\n",
       "       [-1.73740904, -1.74147936,  1.30835607, ...,  3.54702836,\n",
       "        -0.42029535, -1.2009872 ],\n",
       "       [-1.73740904, -1.74147936,  1.30835607, ...,  1.66124773,\n",
       "        -0.42029535, -1.2009872 ],\n",
       "       ...,\n",
       "       [ 1.69400365,  1.49893272, -0.9607931 , ..., -0.40438512,\n",
       "         2.37927923, -1.26511413],\n",
       "       [ 1.69400365,  1.49893272, -0.9607931 , ..., -0.40438512,\n",
       "         2.37927923, -1.26511413],\n",
       "       [ 1.69400365,  1.49893272, -0.9607931 , ..., -0.40438512,\n",
       "         2.37927923, -1.26511413]])"
      ]
     },
     "execution_count": 87,
     "metadata": {},
     "output_type": "execute_result"
    }
   ],
   "source": [
    "from sklearn.preprocessing import StandardScaler\n",
    "sc=StandardScaler()\n",
    "newx=sc.fit_transform(x)\n",
    "newx"
   ]
  },
  {
   "cell_type": "code",
   "execution_count": 88,
   "metadata": {},
   "outputs": [
    {
     "data": {
      "text/plain": [
       "21       1.817121\n",
       "22       1.912931\n",
       "23       1.259921\n",
       "24       1.000000\n",
       "25       0.000000\n",
       "           ...   \n",
       "21638    0.000000\n",
       "21639    0.000000\n",
       "21640    0.000000\n",
       "21641    0.000000\n",
       "21642    0.000000\n",
       "Name: FinalMandates, Length: 19097, dtype: float64"
      ]
     },
     "execution_count": 88,
     "metadata": {},
     "output_type": "execute_result"
    }
   ],
   "source": [
    "y"
   ]
  },
  {
   "cell_type": "code",
   "execution_count": 89,
   "metadata": {},
   "outputs": [],
   "source": [
    "from sklearn.linear_model import LinearRegression\n",
    "from sklearn.model_selection import cross_val_score\n",
    "from sklearn.metrics import mean_absolute_error\n",
    "from sklearn.metrics import mean_squared_error\n",
    "from sklearn.metrics import r2_score\n",
    "from sklearn.model_selection import train_test_split\n",
    "def maxr2_score(regr,newx,y):\n",
    "    max_r_score=0\n",
    "    for r_state in range(42,100):\n",
    "        x_train, x_test, y_train, y_test = train_test_split(newx, y,random_state = r_state,test_size=0.20)\n",
    "        regr.fit(x_train,y_train)\n",
    "        y_pred = regr.predict(x_test)\n",
    "        r2_scr=r2_score(y_test,y_pred)\n",
    "        print(\"r2 score corresponding to \",r_state,\" is \",r2_scr)\n",
    "        if r2_scr>max_r_score:\n",
    "            max_r_score=r2_scr\n",
    "            final_r_state=r_state\n",
    "    print(\"max r2 score corresponding to \",final_r_state,\" is \",max_r_score)\n",
    "    return final_r_state"
   ]
  },
  {
   "cell_type": "code",
   "execution_count": 90,
   "metadata": {},
   "outputs": [],
   "source": [
    "#lets make a function which evaluates the model using cross_val_score\n",
    "from sklearn.model_selection import cross_val_score\n",
    "def model_evaluation(model,newx,y):\n",
    "    c_scores=cross_val_score(model,newx,y,cv=5,scoring=\"r2\")\n",
    "    print(\"Mean r2 score for regressor: \",c_scores.mean())\n",
    "    print(\"standard deviation in r2 score for regressor: \",c_scores.std())\n",
    "    print(c_scores)"
   ]
  },
  {
   "cell_type": "code",
   "execution_count": 91,
   "metadata": {},
   "outputs": [
    {
     "name": "stdout",
     "output_type": "stream",
     "text": [
      "r2 score corresponding to  42  is  0.9732986725477241\n",
      "r2 score corresponding to  43  is  0.9783905681565053\n",
      "r2 score corresponding to  44  is  0.9626078719905493\n",
      "r2 score corresponding to  45  is  0.9744381713613373\n",
      "r2 score corresponding to  46  is  0.9757496315467082\n",
      "r2 score corresponding to  47  is  0.9714813028530622\n",
      "r2 score corresponding to  48  is  0.9723519455500783\n",
      "r2 score corresponding to  49  is  0.9645225389310772\n",
      "r2 score corresponding to  50  is  0.9773207038427081\n",
      "r2 score corresponding to  51  is  0.9731248048662462\n",
      "r2 score corresponding to  52  is  0.9824126210194793\n",
      "r2 score corresponding to  53  is  0.9687523607233042\n",
      "r2 score corresponding to  54  is  0.9647284215024217\n",
      "r2 score corresponding to  55  is  0.9722707159772205\n",
      "r2 score corresponding to  56  is  0.9705306704473835\n",
      "r2 score corresponding to  57  is  0.9702773923167759\n",
      "r2 score corresponding to  58  is  0.9747376343979172\n",
      "r2 score corresponding to  59  is  0.9708327738135745\n",
      "r2 score corresponding to  60  is  0.9688748196715717\n",
      "r2 score corresponding to  61  is  0.9731403372581594\n",
      "r2 score corresponding to  62  is  0.9740383252521532\n",
      "r2 score corresponding to  63  is  0.9713804217120524\n",
      "r2 score corresponding to  64  is  0.9720594210516611\n",
      "r2 score corresponding to  65  is  0.9692588770959708\n",
      "r2 score corresponding to  66  is  0.9739465705956831\n",
      "r2 score corresponding to  67  is  0.9679069451919482\n",
      "r2 score corresponding to  68  is  0.9759978533494481\n",
      "r2 score corresponding to  69  is  0.9715120364959344\n",
      "r2 score corresponding to  70  is  0.9704960025570549\n",
      "r2 score corresponding to  71  is  0.9773274131920294\n",
      "r2 score corresponding to  72  is  0.9670331344688111\n",
      "r2 score corresponding to  73  is  0.9726279021311887\n",
      "r2 score corresponding to  74  is  0.9690436284464777\n",
      "r2 score corresponding to  75  is  0.9749892561045304\n",
      "r2 score corresponding to  76  is  0.9620748248488064\n",
      "r2 score corresponding to  77  is  0.9735884024882064\n",
      "r2 score corresponding to  78  is  0.97722707075455\n",
      "r2 score corresponding to  79  is  0.9734456549176029\n",
      "r2 score corresponding to  80  is  0.9735512492112313\n",
      "r2 score corresponding to  81  is  0.9761670004734518\n",
      "r2 score corresponding to  82  is  0.9663105770587538\n",
      "r2 score corresponding to  83  is  0.9729796644828633\n",
      "r2 score corresponding to  84  is  0.9776054264120336\n",
      "r2 score corresponding to  85  is  0.9670915729411768\n",
      "r2 score corresponding to  86  is  0.9745148006399974\n",
      "r2 score corresponding to  87  is  0.9697224421067041\n",
      "r2 score corresponding to  88  is  0.9775059090900804\n",
      "r2 score corresponding to  89  is  0.9716180961198916\n",
      "r2 score corresponding to  90  is  0.9785484460440201\n",
      "r2 score corresponding to  91  is  0.9699175547065738\n",
      "r2 score corresponding to  92  is  0.9745446038069554\n",
      "r2 score corresponding to  93  is  0.9735719829535605\n",
      "r2 score corresponding to  94  is  0.9682102711235693\n",
      "r2 score corresponding to  95  is  0.9653274392307002\n",
      "r2 score corresponding to  96  is  0.9671355139346729\n",
      "r2 score corresponding to  97  is  0.967466305887684\n",
      "r2 score corresponding to  98  is  0.9744226300720761\n",
      "r2 score corresponding to  99  is  0.9727938461495518\n",
      "max r2 score corresponding to  52  is  0.9824126210194793\n"
     ]
    }
   ],
   "source": [
    "from sklearn.linear_model import LinearRegression\n",
    "lnr=LinearRegression()\n",
    "final_r_state=maxr2_score(lnr,newx,y)"
   ]
  },
  {
   "cell_type": "code",
   "execution_count": 92,
   "metadata": {},
   "outputs": [
    {
     "name": "stdout",
     "output_type": "stream",
     "text": [
      "Mean r2 score for regressor:  -2.5554317619694104e+22\n",
      "standard deviation in r2 score for regressor:  5.110863523938821e+22\n",
      "[ 9.09193624e-01  9.58450903e-01  9.95747547e-01  9.98924304e-01\n",
      " -1.27771588e+23]\n"
     ]
    }
   ],
   "source": [
    "model_evaluation(lnr,newx,y)"
   ]
  },
  {
   "cell_type": "raw",
   "metadata": {},
   "source": [
    "from sklearn.ensemble import GradientBoostingRegressor\n",
    "from sklearn.model_selection import GridSearchCV\n",
    "parameters={\"learning_rate\":[0.001,0.01,0.1,1],\"n_estimators\":[10,100,500,1000]}\n",
    "gb_reg=GradientBoostingRegressor()\n",
    "reg = GridSearchCV(gb_reg, parameters, cv=5,scoring=\"r2\")\n",
    "reg.fit(newx,y)\n",
    "reg.best_params_"
   ]
  },
  {
   "cell_type": "code",
   "execution_count": 93,
   "metadata": {},
   "outputs": [
    {
     "name": "stdout",
     "output_type": "stream",
     "text": [
      "r2 score corresponding to  42  is  0.9892809283370604\n",
      "r2 score corresponding to  43  is  0.9943590842132922\n",
      "r2 score corresponding to  44  is  0.9904582119348955\n",
      "r2 score corresponding to  45  is  0.9939012495256219\n",
      "r2 score corresponding to  46  is  0.9952022530821957\n",
      "r2 score corresponding to  47  is  0.9935244847893416\n",
      "r2 score corresponding to  48  is  0.9926811297433523\n",
      "r2 score corresponding to  49  is  0.9917505876726816\n",
      "r2 score corresponding to  50  is  0.9939567790602404\n",
      "r2 score corresponding to  51  is  0.9934492305524542\n",
      "r2 score corresponding to  52  is  0.995436368914217\n",
      "r2 score corresponding to  53  is  0.9919365643814614\n",
      "r2 score corresponding to  54  is  0.9925984915195188\n",
      "r2 score corresponding to  55  is  0.9925339641745338\n",
      "r2 score corresponding to  56  is  0.9945134663215126\n",
      "r2 score corresponding to  57  is  0.9924053157586199\n",
      "r2 score corresponding to  58  is  0.993824773123101\n",
      "r2 score corresponding to  59  is  0.993409400096114\n",
      "r2 score corresponding to  60  is  0.9936979060383009\n",
      "r2 score corresponding to  61  is  0.992381817159213\n",
      "r2 score corresponding to  62  is  0.993336214335583\n",
      "r2 score corresponding to  63  is  0.9936473385651156\n",
      "r2 score corresponding to  64  is  0.993321827776704\n",
      "r2 score corresponding to  65  is  0.9946328732706095\n",
      "r2 score corresponding to  66  is  0.9930357638157413\n",
      "r2 score corresponding to  67  is  0.9930223034606727\n",
      "r2 score corresponding to  68  is  0.9948143375841464\n",
      "r2 score corresponding to  69  is  0.9924570834678064\n",
      "r2 score corresponding to  70  is  0.9939660416515682\n",
      "r2 score corresponding to  71  is  0.9946765304072585\n",
      "r2 score corresponding to  72  is  0.9916263366013371\n",
      "r2 score corresponding to  73  is  0.993153203995233\n",
      "r2 score corresponding to  74  is  0.9918223611188324\n",
      "r2 score corresponding to  75  is  0.9949151808510194\n",
      "r2 score corresponding to  76  is  0.9880620956227693\n",
      "r2 score corresponding to  77  is  0.9920480977486557\n",
      "r2 score corresponding to  78  is  0.9945731926063383\n",
      "r2 score corresponding to  79  is  0.9943049236929579\n",
      "r2 score corresponding to  80  is  0.9951155279682959\n",
      "r2 score corresponding to  81  is  0.9944567290816285\n",
      "r2 score corresponding to  82  is  0.991875384114083\n",
      "r2 score corresponding to  83  is  0.992936309805009\n",
      "r2 score corresponding to  84  is  0.99241874409939\n",
      "r2 score corresponding to  85  is  0.9918563800700773\n",
      "r2 score corresponding to  86  is  0.9930431818469927\n",
      "r2 score corresponding to  87  is  0.9944115040543088\n",
      "r2 score corresponding to  88  is  0.9944910878074396\n",
      "r2 score corresponding to  89  is  0.9940423125859779\n",
      "r2 score corresponding to  90  is  0.9939328589809335\n",
      "r2 score corresponding to  91  is  0.9907066142448482\n",
      "r2 score corresponding to  92  is  0.9929498309607848\n",
      "r2 score corresponding to  93  is  0.9938441042180237\n",
      "r2 score corresponding to  94  is  0.9920877433328991\n",
      "r2 score corresponding to  95  is  0.9910855519268243\n",
      "r2 score corresponding to  96  is  0.9911496112048568\n",
      "r2 score corresponding to  97  is  0.9892181725795287\n",
      "r2 score corresponding to  98  is  0.9926906692632385\n",
      "r2 score corresponding to  99  is  0.9934683109274528\n",
      "max r2 score corresponding to  52  is  0.995436368914217\n"
     ]
    },
    {
     "data": {
      "text/plain": [
       "52"
      ]
     },
     "execution_count": 93,
     "metadata": {},
     "output_type": "execute_result"
    }
   ],
   "source": [
    "from sklearn.ensemble import GradientBoostingRegressor\n",
    "gb_reg=GradientBoostingRegressor(learning_rate=0.1,n_estimators=100)\n",
    "maxr2_score(gb_reg,newx,y)"
   ]
  },
  {
   "cell_type": "code",
   "execution_count": 94,
   "metadata": {},
   "outputs": [
    {
     "name": "stdout",
     "output_type": "stream",
     "text": [
      "Mean r2 score for regressor:  0.9804170944463758\n",
      "standard deviation in r2 score for regressor:  0.028199909075107898\n",
      "[0.92638635 0.97830313 0.99808829 0.99971336 0.99959434]\n"
     ]
    }
   ],
   "source": [
    "model_evaluation(gb_reg,newx,y)"
   ]
  },
  {
   "cell_type": "code",
   "execution_count": 95,
   "metadata": {},
   "outputs": [
    {
     "data": {
      "text/plain": [
       "{'n_estimators': 100}"
      ]
     },
     "execution_count": 95,
     "metadata": {},
     "output_type": "execute_result"
    }
   ],
   "source": [
    "from sklearn.ensemble import RandomForestRegressor\n",
    "from sklearn.model_selection import GridSearchCV\n",
    "import warnings\n",
    "warnings.filterwarnings(\"ignore\")\n",
    "rfr=RandomForestRegressor()\n",
    "parameters = {\"n_estimators\":[10,100,150,500]}\n",
    "clf = GridSearchCV(rfr, parameters, cv=5,scoring=\"r2\")\n",
    "clf.fit(newx,y)\n",
    "clf.best_params_"
   ]
  },
  {
   "cell_type": "code",
   "execution_count": 100,
   "metadata": {},
   "outputs": [
    {
     "name": "stdout",
     "output_type": "stream",
     "text": [
      "r2 score corresponding to  42  is  0.9993091491214234\n",
      "r2 score corresponding to  43  is  0.9996810566790251\n",
      "r2 score corresponding to  44  is  0.9995709942881655\n",
      "r2 score corresponding to  45  is  0.9995342902641065\n",
      "r2 score corresponding to  46  is  0.998107634532554\n",
      "r2 score corresponding to  47  is  0.9989114918371408\n",
      "r2 score corresponding to  48  is  0.9994917579901398\n",
      "r2 score corresponding to  49  is  0.9995147167662766\n",
      "r2 score corresponding to  50  is  0.9997068815275695\n",
      "r2 score corresponding to  51  is  0.9986575060086968\n",
      "r2 score corresponding to  52  is  0.9997879021139315\n",
      "r2 score corresponding to  53  is  0.999314436527333\n",
      "r2 score corresponding to  54  is  0.9998914663822693\n",
      "r2 score corresponding to  55  is  0.9988923960172039\n",
      "r2 score corresponding to  56  is  0.99971752034594\n",
      "r2 score corresponding to  57  is  0.9992551237399858\n",
      "r2 score corresponding to  58  is  0.9990402677391873\n",
      "r2 score corresponding to  59  is  0.9993635448974729\n",
      "r2 score corresponding to  60  is  0.9996932285050288\n",
      "r2 score corresponding to  61  is  0.9995808865447641\n",
      "r2 score corresponding to  62  is  0.9989607394912745\n",
      "r2 score corresponding to  63  is  0.999869661211427\n",
      "r2 score corresponding to  64  is  0.9997153908176658\n",
      "r2 score corresponding to  65  is  0.9996101212817015\n",
      "r2 score corresponding to  66  is  0.9995593628476727\n",
      "r2 score corresponding to  67  is  0.9992761728033667\n",
      "r2 score corresponding to  68  is  0.9998288266391707\n",
      "r2 score corresponding to  69  is  0.9993772908640832\n",
      "r2 score corresponding to  70  is  0.9988388121362134\n",
      "r2 score corresponding to  71  is  0.9996001191990619\n",
      "r2 score corresponding to  72  is  0.9994501094459435\n",
      "r2 score corresponding to  73  is  0.9988458264330149\n",
      "r2 score corresponding to  74  is  0.9989341139711985\n",
      "r2 score corresponding to  75  is  0.9998159311987743\n",
      "r2 score corresponding to  76  is  0.9989479518008539\n",
      "r2 score corresponding to  77  is  0.9992693720748043\n",
      "r2 score corresponding to  78  is  0.9998057790943736\n",
      "r2 score corresponding to  79  is  0.999713113592466\n",
      "r2 score corresponding to  80  is  0.9999419676311248\n",
      "r2 score corresponding to  81  is  0.9999310528792487\n",
      "r2 score corresponding to  82  is  0.9992637303934738\n",
      "r2 score corresponding to  83  is  0.9997920903958809\n",
      "r2 score corresponding to  84  is  0.9989248682397142\n",
      "r2 score corresponding to  85  is  0.9995517257887672\n",
      "r2 score corresponding to  86  is  0.9996761838401573\n",
      "r2 score corresponding to  87  is  0.9997344305008411\n",
      "r2 score corresponding to  88  is  0.9995887048430278\n",
      "r2 score corresponding to  89  is  0.9996142811250184\n",
      "r2 score corresponding to  90  is  0.9997022901972982\n",
      "r2 score corresponding to  91  is  0.9995423806618522\n",
      "r2 score corresponding to  92  is  0.9986858348922838\n",
      "r2 score corresponding to  93  is  0.9995528616239605\n",
      "r2 score corresponding to  94  is  0.9995048308727493\n",
      "r2 score corresponding to  95  is  0.9989915923905268\n",
      "r2 score corresponding to  96  is  0.9990050584185255\n",
      "r2 score corresponding to  97  is  0.9997464901920459\n",
      "r2 score corresponding to  98  is  0.9994147420576891\n",
      "r2 score corresponding to  99  is  0.9986451154903198\n",
      "max r2 score corresponding to  80  is  0.9999419676311248\n"
     ]
    },
    {
     "data": {
      "text/plain": [
       "80"
      ]
     },
     "execution_count": 100,
     "metadata": {},
     "output_type": "execute_result"
    }
   ],
   "source": [
    "# Random forest using n_estimators=500 \n",
    "from sklearn.ensemble import RandomForestRegressor\n",
    "rfr=RandomForestRegressor(n_estimators=100)\n",
    "maxr2_score(rfr,newx,y)"
   ]
  },
  {
   "cell_type": "code",
   "execution_count": 39,
   "metadata": {},
   "outputs": [
    {
     "name": "stdout",
     "output_type": "stream",
     "text": [
      "Mean r2 score for regressor:  0.98570017998368\n",
      "standard deviation in r2 score for regressor:  0.026028771147859536\n",
      "[0.93373934 0.99568544 0.9990956  0.99999976 0.99998076]\n"
     ]
    }
   ],
   "source": [
    "model_evaluation(rfr,newx,y)"
   ]
  },
  {
   "cell_type": "code",
   "execution_count": 45,
   "metadata": {},
   "outputs": [
    {
     "data": {
      "text/plain": [
       "{'n_neighbors': 2}"
      ]
     },
     "execution_count": 45,
     "metadata": {},
     "output_type": "execute_result"
    }
   ],
   "source": [
    "from sklearn.model_selection import GridSearchCV\n",
    "from sklearn.neighbors import KNeighborsRegressor\n",
    "knr=KNeighborsRegressor()\n",
    "parameters = {\"n_neighbors\":range(2,30)}\n",
    "clf = GridSearchCV(knr, parameters, cv=5,scoring=\"r2\")\n",
    "clf.fit(newx, y)\n",
    "clf.best_params_"
   ]
  },
  {
   "cell_type": "code",
   "execution_count": 46,
   "metadata": {},
   "outputs": [
    {
     "name": "stdout",
     "output_type": "stream",
     "text": [
      "r2 score corresponding to  42  is  0.998627065805546\n",
      "r2 score corresponding to  43  is  0.9993772312436648\n",
      "r2 score corresponding to  44  is  0.9984484351869682\n",
      "r2 score corresponding to  45  is  0.9995125338315081\n",
      "r2 score corresponding to  46  is  0.9991690428138789\n",
      "r2 score corresponding to  47  is  0.9990749201582109\n",
      "r2 score corresponding to  48  is  0.9984569228452205\n",
      "r2 score corresponding to  49  is  0.9988310146647944\n",
      "r2 score corresponding to  50  is  0.9988876964260067\n",
      "r2 score corresponding to  51  is  0.9985412329955053\n",
      "r2 score corresponding to  52  is  0.9992139691844625\n",
      "r2 score corresponding to  53  is  0.9990180250410606\n",
      "r2 score corresponding to  54  is  0.9992550193654334\n",
      "r2 score corresponding to  55  is  0.9988033215577281\n",
      "r2 score corresponding to  56  is  0.9988343036225985\n",
      "r2 score corresponding to  57  is  0.9980590875619341\n",
      "r2 score corresponding to  58  is  0.9979409805250542\n",
      "r2 score corresponding to  59  is  0.9988206408541043\n",
      "r2 score corresponding to  60  is  0.9983524624700004\n",
      "r2 score corresponding to  61  is  0.9986750140638304\n",
      "r2 score corresponding to  62  is  0.9984218447853509\n",
      "r2 score corresponding to  63  is  0.998548921928338\n",
      "r2 score corresponding to  64  is  0.9990774698172513\n",
      "r2 score corresponding to  65  is  0.999193684062838\n",
      "r2 score corresponding to  66  is  0.9989337666421959\n",
      "r2 score corresponding to  67  is  0.9992130696392953\n",
      "r2 score corresponding to  68  is  0.9990335668886922\n",
      "r2 score corresponding to  69  is  0.9979354437730034\n",
      "r2 score corresponding to  70  is  0.9991037006697541\n",
      "r2 score corresponding to  71  is  0.9983651562600553\n",
      "r2 score corresponding to  72  is  0.9987718958788778\n",
      "r2 score corresponding to  73  is  0.9985247894761172\n",
      "r2 score corresponding to  74  is  0.9989145963061307\n",
      "r2 score corresponding to  75  is  0.9986916347087419\n",
      "r2 score corresponding to  76  is  0.9988505287076301\n",
      "r2 score corresponding to  77  is  0.9992604288429598\n",
      "r2 score corresponding to  78  is  0.9992290325688538\n",
      "r2 score corresponding to  79  is  0.9989514859588139\n",
      "r2 score corresponding to  80  is  0.9988544995453751\n",
      "r2 score corresponding to  81  is  0.9990710001363362\n",
      "r2 score corresponding to  82  is  0.9985506253017382\n",
      "r2 score corresponding to  83  is  0.9993411712146509\n",
      "r2 score corresponding to  84  is  0.9980463556400818\n",
      "r2 score corresponding to  85  is  0.9982800943820155\n",
      "r2 score corresponding to  86  is  0.998908866577369\n",
      "r2 score corresponding to  87  is  0.9994344817177362\n",
      "r2 score corresponding to  88  is  0.9986088052045785\n",
      "r2 score corresponding to  89  is  0.9997306740765889\n",
      "r2 score corresponding to  90  is  0.9987850918044104\n",
      "r2 score corresponding to  91  is  0.9986463951092497\n",
      "r2 score corresponding to  92  is  0.9986964093370756\n",
      "r2 score corresponding to  93  is  0.9986740677345949\n",
      "r2 score corresponding to  94  is  0.9993192341764083\n",
      "r2 score corresponding to  95  is  0.9980190686105644\n",
      "r2 score corresponding to  96  is  0.9988835429973395\n",
      "r2 score corresponding to  97  is  0.9988169420013729\n",
      "r2 score corresponding to  98  is  0.9970237924729864\n",
      "r2 score corresponding to  99  is  0.998535692716571\n",
      "max r2 score corresponding to  89  is  0.9997306740765889\n"
     ]
    },
    {
     "data": {
      "text/plain": [
       "89"
      ]
     },
     "execution_count": 46,
     "metadata": {},
     "output_type": "execute_result"
    }
   ],
   "source": [
    "knr=KNeighborsRegressor(n_neighbors=2)\n",
    "maxr2_score(knr,newx,y)"
   ]
  },
  {
   "cell_type": "code",
   "execution_count": 47,
   "metadata": {},
   "outputs": [
    {
     "name": "stdout",
     "output_type": "stream",
     "text": [
      "Mean r2 score for regressor:  0.9801090333388673\n",
      "standard deviation in r2 score for regressor:  0.028341448550935185\n",
      "[0.92420154 0.98894311 0.9888185  0.99867912 0.9999029 ]\n"
     ]
    }
   ],
   "source": [
    "model_evaluation(knr,newx,y)"
   ]
  },
  {
   "cell_type": "code",
   "execution_count": null,
   "metadata": {},
   "outputs": [],
   "source": [
    "#High r2 score is it due to multicollinearity"
   ]
  },
  {
   "cell_type": "code",
   "execution_count": 48,
   "metadata": {},
   "outputs": [],
   "source": [
    "#lets choose our final model\n"
   ]
  },
  {
   "cell_type": "code",
   "execution_count": 116,
   "metadata": {},
   "outputs": [],
   "source": [
    "x_train, x_test, y_train, y_test = train_test_split(newx, y,random_state = 80,test_size=0.20)\n",
    "rfr=RandomForestRegressor(n_estimators=100)\n",
    "rfr.fit(x_train,y_train)\n",
    "y_pred=rfr.predict(x_test)"
   ]
  },
  {
   "cell_type": "code",
   "execution_count": 117,
   "metadata": {},
   "outputs": [
    {
     "name": "stdout",
     "output_type": "stream",
     "text": [
      "RMSE is:  0.0038020302654108024\n",
      "r2_score is:  0.9999388361641083\n"
     ]
    }
   ],
   "source": [
    "print(\"RMSE is: \",np.sqrt(mean_squared_error(y_test,y_pred)))\n",
    "print(\"r2_score is: \",r2_score(y_test,y_pred))"
   ]
  },
  {
   "cell_type": "code",
   "execution_count": 51,
   "metadata": {},
   "outputs": [
    {
     "data": {
      "text/plain": [
       "['election.obj']"
      ]
     },
     "execution_count": 51,
     "metadata": {},
     "output_type": "execute_result"
    }
   ],
   "source": [
    "import joblib\n",
    "joblib.dump(rfr,'election.obj')"
   ]
  },
  {
   "cell_type": "code",
   "execution_count": null,
   "metadata": {},
   "outputs": [],
   "source": []
  }
 ],
 "metadata": {
  "kernelspec": {
   "display_name": "Python 3",
   "language": "python",
   "name": "python3"
  },
  "language_info": {
   "codemirror_mode": {
    "name": "ipython",
    "version": 3
   },
   "file_extension": ".py",
   "mimetype": "text/x-python",
   "name": "python",
   "nbconvert_exporter": "python",
   "pygments_lexer": "ipython3",
   "version": "3.7.6"
  }
 },
 "nbformat": 4,
 "nbformat_minor": 4
}
